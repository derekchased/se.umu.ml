{
 "cells": [
  {
   "cell_type": "markdown",
   "metadata": {},
   "source": [
    "#### Welcome to Assingment  2 of Machine Learning Course 5DV194! \n",
    "The task is to develop regression algorithms to predict house prices.\n",
    "#### Deadline of Assignment 2:\n",
    "10 March, 2021 (23:59:59 Stockholm time)\n",
    "\n",
    "\n",
    "#### Goal \n",
    "To practice linear regression and neural network on housing price prediction. Additionally, to get familiar with the libraries of pandas (e.g., data frame), tensorflow (e.g., sequential), sklearn (e.g., linear regression, ridge regression, preprocessing).\n",
    "#### Dataset\n",
    "The Boston Housing Dataset\n",
    "https://www.cs.toronto.edu/~delve/data/boston/bostonDetail.html\n",
    "\n",
    " \n",
    "\n",
    "#### Grading (200 points)\n",
    "##### 160 points \n",
    "Follow this jupyter notebook file below, you will find some tasks to complete by coding.  \n",
    "##### 40 points (report)\n",
    "Write a report (1 page, Times New Roman, font 11) which should include comparision of both algorithms on different settings (30 points); And your thoughts/options about the difference of them (different algorithms, different settings, different performance). (10 points).     \n",
    " \n",
    "\n",
    "Upload the report PDF and this jupyter notebook file \"Assignment2_regression.ipynb\" to Cambro/Drop Box."
   ]
  },
  {
   "cell_type": "raw",
   "metadata": {},
   "source": [
    "# In order to run the following codes, you need to install some libraries, such as pandas, numpy, matplotlib, seaborn, tensorlfow, scikit-learn. \n",
    "# You can use command 'conda install pandas' or 'pip install pandas'. \n",
    "# Or you can list all libraries in a txt file, one per line, and install them once 'pip install -r yourFileName.txt'"
   ]
  },
  {
   "cell_type": "markdown",
   "metadata": {},
   "source": [
    "## Import  some libraries"
   ]
  },
  {
   "cell_type": "code",
   "execution_count": 1,
   "metadata": {},
   "outputs": [],
   "source": [
    "import pandas as pd\n",
    "import matplotlib.pyplot as plt\n",
    "import seaborn as sns\n",
    "%matplotlib inline"
   ]
  },
  {
   "cell_type": "markdown",
   "metadata": {},
   "source": [
    "#### Task-1: import the library of 'numpy' and give it an alias as \"np\" (5 points)"
   ]
  },
  {
   "cell_type": "code",
   "execution_count": 2,
   "metadata": {},
   "outputs": [],
   "source": [
    "import numpy as np"
   ]
  },
  {
   "cell_type": "markdown",
   "metadata": {},
   "source": [
    "## Get the data"
   ]
  },
  {
   "cell_type": "code",
   "execution_count": 3,
   "metadata": {},
   "outputs": [],
   "source": [
    "from sklearn.datasets import load_boston\n",
    "housing_data = load_boston()"
   ]
  },
  {
   "cell_type": "markdown",
   "metadata": {},
   "source": [
    "## Explore the data a bit"
   ]
  },
  {
   "cell_type": "code",
   "execution_count": 4,
   "metadata": {},
   "outputs": [
    {
     "name": "stdout",
     "output_type": "stream",
     "text": [
      "dict_keys(['data', 'target', 'feature_names', 'DESCR', 'filename'])\n"
     ]
    }
   ],
   "source": [
    "# Checing the keys of the dataset, which is in dictionary format.\n",
    "print(housing_data.keys())"
   ]
  },
  {
   "cell_type": "code",
   "execution_count": 5,
   "metadata": {},
   "outputs": [
    {
     "name": "stdout",
     "output_type": "stream",
     "text": [
      ".. _boston_dataset:\n",
      "\n",
      "Boston house prices dataset\n",
      "---------------------------\n",
      "\n",
      "**Data Set Characteristics:**  \n",
      "\n",
      "    :Number of Instances: 506 \n",
      "\n",
      "    :Number of Attributes: 13 numeric/categorical predictive. Median Value (attribute 14) is usually the target.\n",
      "\n",
      "    :Attribute Information (in order):\n",
      "        - CRIM     per capita crime rate by town\n",
      "        - ZN       proportion of residential land zoned for lots over 25,000 sq.ft.\n",
      "        - INDUS    proportion of non-retail business acres per town\n",
      "        - CHAS     Charles River dummy variable (= 1 if tract bounds river; 0 otherwise)\n",
      "        - NOX      nitric oxides concentration (parts per 10 million)\n",
      "        - RM       average number of rooms per dwelling\n",
      "        - AGE      proportion of owner-occupied units built prior to 1940\n",
      "        - DIS      weighted distances to five Boston employment centres\n",
      "        - RAD      index of accessibility to radial highways\n",
      "        - TAX      full-value property-tax rate per $10,000\n",
      "        - PTRATIO  pupil-teacher ratio by town\n",
      "        - B        1000(Bk - 0.63)^2 where Bk is the proportion of blacks by town\n",
      "        - LSTAT    % lower status of the population\n",
      "        - MEDV     Median value of owner-occupied homes in $1000's\n",
      "\n",
      "    :Missing Attribute Values: None\n",
      "\n",
      "    :Creator: Harrison, D. and Rubinfeld, D.L.\n",
      "\n",
      "This is a copy of UCI ML housing dataset.\n",
      "https://archive.ics.uci.edu/ml/machine-learning-databases/housing/\n",
      "\n",
      "\n",
      "This dataset was taken from the StatLib library which is maintained at Carnegie Mellon University.\n",
      "\n",
      "The Boston house-price data of Harrison, D. and Rubinfeld, D.L. 'Hedonic\n",
      "prices and the demand for clean air', J. Environ. Economics & Management,\n",
      "vol.5, 81-102, 1978.   Used in Belsley, Kuh & Welsch, 'Regression diagnostics\n",
      "...', Wiley, 1980.   N.B. Various transformations are used in the table on\n",
      "pages 244-261 of the latter.\n",
      "\n",
      "The Boston house-price data has been used in many machine learning papers that address regression\n",
      "problems.   \n",
      "     \n",
      ".. topic:: References\n",
      "\n",
      "   - Belsley, Kuh & Welsch, 'Regression diagnostics: Identifying Influential Data and Sources of Collinearity', Wiley, 1980. 244-261.\n",
      "   - Quinlan,R. (1993). Combining Instance-Based and Model-Based Learning. In Proceedings on the Tenth International Conference of Machine Learning, 236-243, University of Massachusetts, Amherst. Morgan Kaufmann.\n",
      "\n"
     ]
    }
   ],
   "source": [
    "# Checking description of the dataset\n",
    "print (housing_data[\"DESCR\"])"
   ]
  },
  {
   "cell_type": "code",
   "execution_count": 6,
   "metadata": {},
   "outputs": [],
   "source": [
    "# Converting the data into Data Frame using pandas\n",
    "boston = pd.DataFrame(housing_data.data)\n",
    "#Assigning feature-names to colums of data frame\n",
    "boston.columns = housing_data.feature_names"
   ]
  },
  {
   "cell_type": "markdown",
   "metadata": {},
   "source": [
    "#### Task-2: Print the first ten rows for the dataframe boston (5 points)"
   ]
  },
  {
   "cell_type": "code",
   "execution_count": 7,
   "metadata": {
    "scrolled": true
   },
   "outputs": [
    {
     "data": {
      "text/html": [
       "<div>\n",
       "<style scoped>\n",
       "    .dataframe tbody tr th:only-of-type {\n",
       "        vertical-align: middle;\n",
       "    }\n",
       "\n",
       "    .dataframe tbody tr th {\n",
       "        vertical-align: top;\n",
       "    }\n",
       "\n",
       "    .dataframe thead th {\n",
       "        text-align: right;\n",
       "    }\n",
       "</style>\n",
       "<table border=\"1\" class=\"dataframe\">\n",
       "  <thead>\n",
       "    <tr style=\"text-align: right;\">\n",
       "      <th></th>\n",
       "      <th>CRIM</th>\n",
       "      <th>ZN</th>\n",
       "      <th>INDUS</th>\n",
       "      <th>CHAS</th>\n",
       "      <th>NOX</th>\n",
       "      <th>RM</th>\n",
       "      <th>AGE</th>\n",
       "      <th>DIS</th>\n",
       "      <th>RAD</th>\n",
       "      <th>TAX</th>\n",
       "      <th>PTRATIO</th>\n",
       "      <th>B</th>\n",
       "      <th>LSTAT</th>\n",
       "    </tr>\n",
       "  </thead>\n",
       "  <tbody>\n",
       "    <tr>\n",
       "      <th>0</th>\n",
       "      <td>0.00632</td>\n",
       "      <td>18.0</td>\n",
       "      <td>2.31</td>\n",
       "      <td>0.0</td>\n",
       "      <td>0.538</td>\n",
       "      <td>6.575</td>\n",
       "      <td>65.2</td>\n",
       "      <td>4.0900</td>\n",
       "      <td>1.0</td>\n",
       "      <td>296.0</td>\n",
       "      <td>15.3</td>\n",
       "      <td>396.90</td>\n",
       "      <td>4.98</td>\n",
       "    </tr>\n",
       "    <tr>\n",
       "      <th>1</th>\n",
       "      <td>0.02731</td>\n",
       "      <td>0.0</td>\n",
       "      <td>7.07</td>\n",
       "      <td>0.0</td>\n",
       "      <td>0.469</td>\n",
       "      <td>6.421</td>\n",
       "      <td>78.9</td>\n",
       "      <td>4.9671</td>\n",
       "      <td>2.0</td>\n",
       "      <td>242.0</td>\n",
       "      <td>17.8</td>\n",
       "      <td>396.90</td>\n",
       "      <td>9.14</td>\n",
       "    </tr>\n",
       "    <tr>\n",
       "      <th>2</th>\n",
       "      <td>0.02729</td>\n",
       "      <td>0.0</td>\n",
       "      <td>7.07</td>\n",
       "      <td>0.0</td>\n",
       "      <td>0.469</td>\n",
       "      <td>7.185</td>\n",
       "      <td>61.1</td>\n",
       "      <td>4.9671</td>\n",
       "      <td>2.0</td>\n",
       "      <td>242.0</td>\n",
       "      <td>17.8</td>\n",
       "      <td>392.83</td>\n",
       "      <td>4.03</td>\n",
       "    </tr>\n",
       "    <tr>\n",
       "      <th>3</th>\n",
       "      <td>0.03237</td>\n",
       "      <td>0.0</td>\n",
       "      <td>2.18</td>\n",
       "      <td>0.0</td>\n",
       "      <td>0.458</td>\n",
       "      <td>6.998</td>\n",
       "      <td>45.8</td>\n",
       "      <td>6.0622</td>\n",
       "      <td>3.0</td>\n",
       "      <td>222.0</td>\n",
       "      <td>18.7</td>\n",
       "      <td>394.63</td>\n",
       "      <td>2.94</td>\n",
       "    </tr>\n",
       "    <tr>\n",
       "      <th>4</th>\n",
       "      <td>0.06905</td>\n",
       "      <td>0.0</td>\n",
       "      <td>2.18</td>\n",
       "      <td>0.0</td>\n",
       "      <td>0.458</td>\n",
       "      <td>7.147</td>\n",
       "      <td>54.2</td>\n",
       "      <td>6.0622</td>\n",
       "      <td>3.0</td>\n",
       "      <td>222.0</td>\n",
       "      <td>18.7</td>\n",
       "      <td>396.90</td>\n",
       "      <td>5.33</td>\n",
       "    </tr>\n",
       "    <tr>\n",
       "      <th>5</th>\n",
       "      <td>0.02985</td>\n",
       "      <td>0.0</td>\n",
       "      <td>2.18</td>\n",
       "      <td>0.0</td>\n",
       "      <td>0.458</td>\n",
       "      <td>6.430</td>\n",
       "      <td>58.7</td>\n",
       "      <td>6.0622</td>\n",
       "      <td>3.0</td>\n",
       "      <td>222.0</td>\n",
       "      <td>18.7</td>\n",
       "      <td>394.12</td>\n",
       "      <td>5.21</td>\n",
       "    </tr>\n",
       "    <tr>\n",
       "      <th>6</th>\n",
       "      <td>0.08829</td>\n",
       "      <td>12.5</td>\n",
       "      <td>7.87</td>\n",
       "      <td>0.0</td>\n",
       "      <td>0.524</td>\n",
       "      <td>6.012</td>\n",
       "      <td>66.6</td>\n",
       "      <td>5.5605</td>\n",
       "      <td>5.0</td>\n",
       "      <td>311.0</td>\n",
       "      <td>15.2</td>\n",
       "      <td>395.60</td>\n",
       "      <td>12.43</td>\n",
       "    </tr>\n",
       "    <tr>\n",
       "      <th>7</th>\n",
       "      <td>0.14455</td>\n",
       "      <td>12.5</td>\n",
       "      <td>7.87</td>\n",
       "      <td>0.0</td>\n",
       "      <td>0.524</td>\n",
       "      <td>6.172</td>\n",
       "      <td>96.1</td>\n",
       "      <td>5.9505</td>\n",
       "      <td>5.0</td>\n",
       "      <td>311.0</td>\n",
       "      <td>15.2</td>\n",
       "      <td>396.90</td>\n",
       "      <td>19.15</td>\n",
       "    </tr>\n",
       "    <tr>\n",
       "      <th>8</th>\n",
       "      <td>0.21124</td>\n",
       "      <td>12.5</td>\n",
       "      <td>7.87</td>\n",
       "      <td>0.0</td>\n",
       "      <td>0.524</td>\n",
       "      <td>5.631</td>\n",
       "      <td>100.0</td>\n",
       "      <td>6.0821</td>\n",
       "      <td>5.0</td>\n",
       "      <td>311.0</td>\n",
       "      <td>15.2</td>\n",
       "      <td>386.63</td>\n",
       "      <td>29.93</td>\n",
       "    </tr>\n",
       "    <tr>\n",
       "      <th>9</th>\n",
       "      <td>0.17004</td>\n",
       "      <td>12.5</td>\n",
       "      <td>7.87</td>\n",
       "      <td>0.0</td>\n",
       "      <td>0.524</td>\n",
       "      <td>6.004</td>\n",
       "      <td>85.9</td>\n",
       "      <td>6.5921</td>\n",
       "      <td>5.0</td>\n",
       "      <td>311.0</td>\n",
       "      <td>15.2</td>\n",
       "      <td>386.71</td>\n",
       "      <td>17.10</td>\n",
       "    </tr>\n",
       "  </tbody>\n",
       "</table>\n",
       "</div>"
      ],
      "text/plain": [
       "      CRIM    ZN  INDUS  CHAS    NOX     RM    AGE     DIS  RAD    TAX  \\\n",
       "0  0.00632  18.0   2.31   0.0  0.538  6.575   65.2  4.0900  1.0  296.0   \n",
       "1  0.02731   0.0   7.07   0.0  0.469  6.421   78.9  4.9671  2.0  242.0   \n",
       "2  0.02729   0.0   7.07   0.0  0.469  7.185   61.1  4.9671  2.0  242.0   \n",
       "3  0.03237   0.0   2.18   0.0  0.458  6.998   45.8  6.0622  3.0  222.0   \n",
       "4  0.06905   0.0   2.18   0.0  0.458  7.147   54.2  6.0622  3.0  222.0   \n",
       "5  0.02985   0.0   2.18   0.0  0.458  6.430   58.7  6.0622  3.0  222.0   \n",
       "6  0.08829  12.5   7.87   0.0  0.524  6.012   66.6  5.5605  5.0  311.0   \n",
       "7  0.14455  12.5   7.87   0.0  0.524  6.172   96.1  5.9505  5.0  311.0   \n",
       "8  0.21124  12.5   7.87   0.0  0.524  5.631  100.0  6.0821  5.0  311.0   \n",
       "9  0.17004  12.5   7.87   0.0  0.524  6.004   85.9  6.5921  5.0  311.0   \n",
       "\n",
       "   PTRATIO       B  LSTAT  \n",
       "0     15.3  396.90   4.98  \n",
       "1     17.8  396.90   9.14  \n",
       "2     17.8  392.83   4.03  \n",
       "3     18.7  394.63   2.94  \n",
       "4     18.7  396.90   5.33  \n",
       "5     18.7  394.12   5.21  \n",
       "6     15.2  395.60  12.43  \n",
       "7     15.2  396.90  19.15  \n",
       "8     15.2  386.63  29.93  \n",
       "9     15.2  386.71  17.10  "
      ]
     },
     "execution_count": 7,
     "metadata": {},
     "output_type": "execute_result"
    }
   ],
   "source": [
    "boston.head(10)"
   ]
  },
  {
   "cell_type": "code",
   "execution_count": 8,
   "metadata": {},
   "outputs": [
    {
     "data": {
      "text/html": [
       "<div>\n",
       "<style scoped>\n",
       "    .dataframe tbody tr th:only-of-type {\n",
       "        vertical-align: middle;\n",
       "    }\n",
       "\n",
       "    .dataframe tbody tr th {\n",
       "        vertical-align: top;\n",
       "    }\n",
       "\n",
       "    .dataframe thead th {\n",
       "        text-align: right;\n",
       "    }\n",
       "</style>\n",
       "<table border=\"1\" class=\"dataframe\">\n",
       "  <thead>\n",
       "    <tr style=\"text-align: right;\">\n",
       "      <th></th>\n",
       "      <th>CRIM</th>\n",
       "      <th>ZN</th>\n",
       "      <th>INDUS</th>\n",
       "      <th>CHAS</th>\n",
       "      <th>NOX</th>\n",
       "      <th>RM</th>\n",
       "      <th>AGE</th>\n",
       "      <th>DIS</th>\n",
       "      <th>RAD</th>\n",
       "      <th>TAX</th>\n",
       "      <th>PTRATIO</th>\n",
       "      <th>B</th>\n",
       "      <th>LSTAT</th>\n",
       "      <th>PRICE</th>\n",
       "    </tr>\n",
       "  </thead>\n",
       "  <tbody>\n",
       "    <tr>\n",
       "      <th>0</th>\n",
       "      <td>0.00632</td>\n",
       "      <td>18.0</td>\n",
       "      <td>2.31</td>\n",
       "      <td>0.0</td>\n",
       "      <td>0.538</td>\n",
       "      <td>6.575</td>\n",
       "      <td>65.2</td>\n",
       "      <td>4.0900</td>\n",
       "      <td>1.0</td>\n",
       "      <td>296.0</td>\n",
       "      <td>15.3</td>\n",
       "      <td>396.90</td>\n",
       "      <td>4.98</td>\n",
       "      <td>24.0</td>\n",
       "    </tr>\n",
       "    <tr>\n",
       "      <th>1</th>\n",
       "      <td>0.02731</td>\n",
       "      <td>0.0</td>\n",
       "      <td>7.07</td>\n",
       "      <td>0.0</td>\n",
       "      <td>0.469</td>\n",
       "      <td>6.421</td>\n",
       "      <td>78.9</td>\n",
       "      <td>4.9671</td>\n",
       "      <td>2.0</td>\n",
       "      <td>242.0</td>\n",
       "      <td>17.8</td>\n",
       "      <td>396.90</td>\n",
       "      <td>9.14</td>\n",
       "      <td>21.6</td>\n",
       "    </tr>\n",
       "    <tr>\n",
       "      <th>2</th>\n",
       "      <td>0.02729</td>\n",
       "      <td>0.0</td>\n",
       "      <td>7.07</td>\n",
       "      <td>0.0</td>\n",
       "      <td>0.469</td>\n",
       "      <td>7.185</td>\n",
       "      <td>61.1</td>\n",
       "      <td>4.9671</td>\n",
       "      <td>2.0</td>\n",
       "      <td>242.0</td>\n",
       "      <td>17.8</td>\n",
       "      <td>392.83</td>\n",
       "      <td>4.03</td>\n",
       "      <td>34.7</td>\n",
       "    </tr>\n",
       "    <tr>\n",
       "      <th>3</th>\n",
       "      <td>0.03237</td>\n",
       "      <td>0.0</td>\n",
       "      <td>2.18</td>\n",
       "      <td>0.0</td>\n",
       "      <td>0.458</td>\n",
       "      <td>6.998</td>\n",
       "      <td>45.8</td>\n",
       "      <td>6.0622</td>\n",
       "      <td>3.0</td>\n",
       "      <td>222.0</td>\n",
       "      <td>18.7</td>\n",
       "      <td>394.63</td>\n",
       "      <td>2.94</td>\n",
       "      <td>33.4</td>\n",
       "    </tr>\n",
       "    <tr>\n",
       "      <th>4</th>\n",
       "      <td>0.06905</td>\n",
       "      <td>0.0</td>\n",
       "      <td>2.18</td>\n",
       "      <td>0.0</td>\n",
       "      <td>0.458</td>\n",
       "      <td>7.147</td>\n",
       "      <td>54.2</td>\n",
       "      <td>6.0622</td>\n",
       "      <td>3.0</td>\n",
       "      <td>222.0</td>\n",
       "      <td>18.7</td>\n",
       "      <td>396.90</td>\n",
       "      <td>5.33</td>\n",
       "      <td>36.2</td>\n",
       "    </tr>\n",
       "  </tbody>\n",
       "</table>\n",
       "</div>"
      ],
      "text/plain": [
       "      CRIM    ZN  INDUS  CHAS    NOX     RM   AGE     DIS  RAD    TAX  \\\n",
       "0  0.00632  18.0   2.31   0.0  0.538  6.575  65.2  4.0900  1.0  296.0   \n",
       "1  0.02731   0.0   7.07   0.0  0.469  6.421  78.9  4.9671  2.0  242.0   \n",
       "2  0.02729   0.0   7.07   0.0  0.469  7.185  61.1  4.9671  2.0  242.0   \n",
       "3  0.03237   0.0   2.18   0.0  0.458  6.998  45.8  6.0622  3.0  222.0   \n",
       "4  0.06905   0.0   2.18   0.0  0.458  7.147  54.2  6.0622  3.0  222.0   \n",
       "\n",
       "   PTRATIO       B  LSTAT  PRICE  \n",
       "0     15.3  396.90   4.98   24.0  \n",
       "1     17.8  396.90   9.14   21.6  \n",
       "2     17.8  392.83   4.03   34.7  \n",
       "3     18.7  394.63   2.94   33.4  \n",
       "4     18.7  396.90   5.33   36.2  "
      ]
     },
     "execution_count": 8,
     "metadata": {},
     "output_type": "execute_result"
    }
   ],
   "source": [
    "#Adding the target column Price to the data frame\n",
    "boston['PRICE'] = housing_data.target\n",
    "boston.head()"
   ]
  },
  {
   "cell_type": "code",
   "execution_count": 9,
   "metadata": {},
   "outputs": [
    {
     "name": "stdout",
     "output_type": "stream",
     "text": [
      "<class 'pandas.core.frame.DataFrame'>\n",
      "RangeIndex: 506 entries, 0 to 505\n",
      "Data columns (total 14 columns):\n",
      " #   Column   Non-Null Count  Dtype  \n",
      "---  ------   --------------  -----  \n",
      " 0   CRIM     506 non-null    float64\n",
      " 1   ZN       506 non-null    float64\n",
      " 2   INDUS    506 non-null    float64\n",
      " 3   CHAS     506 non-null    float64\n",
      " 4   NOX      506 non-null    float64\n",
      " 5   RM       506 non-null    float64\n",
      " 6   AGE      506 non-null    float64\n",
      " 7   DIS      506 non-null    float64\n",
      " 8   RAD      506 non-null    float64\n",
      " 9   TAX      506 non-null    float64\n",
      " 10  PTRATIO  506 non-null    float64\n",
      " 11  B        506 non-null    float64\n",
      " 12  LSTAT    506 non-null    float64\n",
      " 13  PRICE    506 non-null    float64\n",
      "dtypes: float64(14)\n",
      "memory usage: 55.5 KB\n"
     ]
    }
   ],
   "source": [
    "# Let's see how the data structure looks like now\n",
    "boston.info()"
   ]
  },
  {
   "cell_type": "markdown",
   "metadata": {},
   "source": [
    "#### Task-3: Return the Summary Statistic of the numeric columns for dataframe boston by applying the method 'describe' of data frame. (5 points)"
   ]
  },
  {
   "cell_type": "code",
   "execution_count": 10,
   "metadata": {},
   "outputs": [
    {
     "data": {
      "text/html": [
       "<div>\n",
       "<style scoped>\n",
       "    .dataframe tbody tr th:only-of-type {\n",
       "        vertical-align: middle;\n",
       "    }\n",
       "\n",
       "    .dataframe tbody tr th {\n",
       "        vertical-align: top;\n",
       "    }\n",
       "\n",
       "    .dataframe thead th {\n",
       "        text-align: right;\n",
       "    }\n",
       "</style>\n",
       "<table border=\"1\" class=\"dataframe\">\n",
       "  <thead>\n",
       "    <tr style=\"text-align: right;\">\n",
       "      <th></th>\n",
       "      <th>CRIM</th>\n",
       "      <th>ZN</th>\n",
       "      <th>INDUS</th>\n",
       "      <th>CHAS</th>\n",
       "      <th>NOX</th>\n",
       "      <th>RM</th>\n",
       "      <th>AGE</th>\n",
       "      <th>DIS</th>\n",
       "      <th>RAD</th>\n",
       "      <th>TAX</th>\n",
       "      <th>PTRATIO</th>\n",
       "      <th>B</th>\n",
       "      <th>LSTAT</th>\n",
       "      <th>PRICE</th>\n",
       "    </tr>\n",
       "  </thead>\n",
       "  <tbody>\n",
       "    <tr>\n",
       "      <th>count</th>\n",
       "      <td>506.000000</td>\n",
       "      <td>506.000000</td>\n",
       "      <td>506.000000</td>\n",
       "      <td>506.000000</td>\n",
       "      <td>506.000000</td>\n",
       "      <td>506.000000</td>\n",
       "      <td>506.000000</td>\n",
       "      <td>506.000000</td>\n",
       "      <td>506.000000</td>\n",
       "      <td>506.000000</td>\n",
       "      <td>506.000000</td>\n",
       "      <td>506.000000</td>\n",
       "      <td>506.000000</td>\n",
       "      <td>506.000000</td>\n",
       "    </tr>\n",
       "    <tr>\n",
       "      <th>mean</th>\n",
       "      <td>3.613524</td>\n",
       "      <td>11.363636</td>\n",
       "      <td>11.136779</td>\n",
       "      <td>0.069170</td>\n",
       "      <td>0.554695</td>\n",
       "      <td>6.284634</td>\n",
       "      <td>68.574901</td>\n",
       "      <td>3.795043</td>\n",
       "      <td>9.549407</td>\n",
       "      <td>408.237154</td>\n",
       "      <td>18.455534</td>\n",
       "      <td>356.674032</td>\n",
       "      <td>12.653063</td>\n",
       "      <td>22.532806</td>\n",
       "    </tr>\n",
       "    <tr>\n",
       "      <th>std</th>\n",
       "      <td>8.601545</td>\n",
       "      <td>23.322453</td>\n",
       "      <td>6.860353</td>\n",
       "      <td>0.253994</td>\n",
       "      <td>0.115878</td>\n",
       "      <td>0.702617</td>\n",
       "      <td>28.148861</td>\n",
       "      <td>2.105710</td>\n",
       "      <td>8.707259</td>\n",
       "      <td>168.537116</td>\n",
       "      <td>2.164946</td>\n",
       "      <td>91.294864</td>\n",
       "      <td>7.141062</td>\n",
       "      <td>9.197104</td>\n",
       "    </tr>\n",
       "    <tr>\n",
       "      <th>min</th>\n",
       "      <td>0.006320</td>\n",
       "      <td>0.000000</td>\n",
       "      <td>0.460000</td>\n",
       "      <td>0.000000</td>\n",
       "      <td>0.385000</td>\n",
       "      <td>3.561000</td>\n",
       "      <td>2.900000</td>\n",
       "      <td>1.129600</td>\n",
       "      <td>1.000000</td>\n",
       "      <td>187.000000</td>\n",
       "      <td>12.600000</td>\n",
       "      <td>0.320000</td>\n",
       "      <td>1.730000</td>\n",
       "      <td>5.000000</td>\n",
       "    </tr>\n",
       "    <tr>\n",
       "      <th>25%</th>\n",
       "      <td>0.082045</td>\n",
       "      <td>0.000000</td>\n",
       "      <td>5.190000</td>\n",
       "      <td>0.000000</td>\n",
       "      <td>0.449000</td>\n",
       "      <td>5.885500</td>\n",
       "      <td>45.025000</td>\n",
       "      <td>2.100175</td>\n",
       "      <td>4.000000</td>\n",
       "      <td>279.000000</td>\n",
       "      <td>17.400000</td>\n",
       "      <td>375.377500</td>\n",
       "      <td>6.950000</td>\n",
       "      <td>17.025000</td>\n",
       "    </tr>\n",
       "    <tr>\n",
       "      <th>50%</th>\n",
       "      <td>0.256510</td>\n",
       "      <td>0.000000</td>\n",
       "      <td>9.690000</td>\n",
       "      <td>0.000000</td>\n",
       "      <td>0.538000</td>\n",
       "      <td>6.208500</td>\n",
       "      <td>77.500000</td>\n",
       "      <td>3.207450</td>\n",
       "      <td>5.000000</td>\n",
       "      <td>330.000000</td>\n",
       "      <td>19.050000</td>\n",
       "      <td>391.440000</td>\n",
       "      <td>11.360000</td>\n",
       "      <td>21.200000</td>\n",
       "    </tr>\n",
       "    <tr>\n",
       "      <th>75%</th>\n",
       "      <td>3.677083</td>\n",
       "      <td>12.500000</td>\n",
       "      <td>18.100000</td>\n",
       "      <td>0.000000</td>\n",
       "      <td>0.624000</td>\n",
       "      <td>6.623500</td>\n",
       "      <td>94.075000</td>\n",
       "      <td>5.188425</td>\n",
       "      <td>24.000000</td>\n",
       "      <td>666.000000</td>\n",
       "      <td>20.200000</td>\n",
       "      <td>396.225000</td>\n",
       "      <td>16.955000</td>\n",
       "      <td>25.000000</td>\n",
       "    </tr>\n",
       "    <tr>\n",
       "      <th>max</th>\n",
       "      <td>88.976200</td>\n",
       "      <td>100.000000</td>\n",
       "      <td>27.740000</td>\n",
       "      <td>1.000000</td>\n",
       "      <td>0.871000</td>\n",
       "      <td>8.780000</td>\n",
       "      <td>100.000000</td>\n",
       "      <td>12.126500</td>\n",
       "      <td>24.000000</td>\n",
       "      <td>711.000000</td>\n",
       "      <td>22.000000</td>\n",
       "      <td>396.900000</td>\n",
       "      <td>37.970000</td>\n",
       "      <td>50.000000</td>\n",
       "    </tr>\n",
       "  </tbody>\n",
       "</table>\n",
       "</div>"
      ],
      "text/plain": [
       "             CRIM          ZN       INDUS        CHAS         NOX          RM  \\\n",
       "count  506.000000  506.000000  506.000000  506.000000  506.000000  506.000000   \n",
       "mean     3.613524   11.363636   11.136779    0.069170    0.554695    6.284634   \n",
       "std      8.601545   23.322453    6.860353    0.253994    0.115878    0.702617   \n",
       "min      0.006320    0.000000    0.460000    0.000000    0.385000    3.561000   \n",
       "25%      0.082045    0.000000    5.190000    0.000000    0.449000    5.885500   \n",
       "50%      0.256510    0.000000    9.690000    0.000000    0.538000    6.208500   \n",
       "75%      3.677083   12.500000   18.100000    0.000000    0.624000    6.623500   \n",
       "max     88.976200  100.000000   27.740000    1.000000    0.871000    8.780000   \n",
       "\n",
       "              AGE         DIS         RAD         TAX     PTRATIO           B  \\\n",
       "count  506.000000  506.000000  506.000000  506.000000  506.000000  506.000000   \n",
       "mean    68.574901    3.795043    9.549407  408.237154   18.455534  356.674032   \n",
       "std     28.148861    2.105710    8.707259  168.537116    2.164946   91.294864   \n",
       "min      2.900000    1.129600    1.000000  187.000000   12.600000    0.320000   \n",
       "25%     45.025000    2.100175    4.000000  279.000000   17.400000  375.377500   \n",
       "50%     77.500000    3.207450    5.000000  330.000000   19.050000  391.440000   \n",
       "75%     94.075000    5.188425   24.000000  666.000000   20.200000  396.225000   \n",
       "max    100.000000   12.126500   24.000000  711.000000   22.000000  396.900000   \n",
       "\n",
       "            LSTAT       PRICE  \n",
       "count  506.000000  506.000000  \n",
       "mean    12.653063   22.532806  \n",
       "std      7.141062    9.197104  \n",
       "min      1.730000    5.000000  \n",
       "25%      6.950000   17.025000  \n",
       "50%     11.360000   21.200000  \n",
       "75%     16.955000   25.000000  \n",
       "max     37.970000   50.000000  "
      ]
     },
     "execution_count": 10,
     "metadata": {},
     "output_type": "execute_result"
    }
   ],
   "source": [
    "boston.describe()"
   ]
  },
  {
   "cell_type": "markdown",
   "metadata": {},
   "source": [
    "#### Before going to machine learning algorithms, we should understand the data a  bit more."
   ]
  },
  {
   "cell_type": "code",
   "execution_count": 11,
   "metadata": {},
   "outputs": [
    {
     "data": {
      "text/plain": [
       "<AxesSubplot:>"
      ]
     },
     "execution_count": 11,
     "metadata": {},
     "output_type": "execute_result"
    },
    {
     "data": {
      "image/png": "[encoded data removed]",
      "text/plain": [
       "<Figure size 432x288 with 2 Axes>"
      ]
     },
     "metadata": {
      "needs_background": "light"
     },
     "output_type": "display_data"
    }
   ],
   "source": [
    "# Correlation between Different features\n",
    "sns.heatmap(boston.corr())"
   ]
  },
  {
   "cell_type": "code",
   "execution_count": 12,
   "metadata": {},
   "outputs": [
    {
     "data": {
      "text/plain": [
       "<seaborn.axisgrid.FacetGrid at 0x7fea07c5dad0>"
      ]
     },
     "execution_count": 12,
     "metadata": {},
     "output_type": "execute_result"
    },
    {
     "data": {
      "image/png": "[encoded data removed]",
      "text/plain": [
       "<Figure size 360x360 with 1 Axes>"
      ]
     },
     "metadata": {
      "needs_background": "light"
     },
     "output_type": "display_data"
    }
   ],
   "source": [
    "# Distributing of PRICE Column\n",
    "sns.displot(boston['PRICE'])"
   ]
  },
  {
   "cell_type": "markdown",
   "metadata": {},
   "source": [
    "#### Task-4: try yourself to distribute two other columns (e.g., number of rooms, nitric oxides concentration) (10 points)"
   ]
  },
  {
   "cell_type": "code",
   "execution_count": 13,
   "metadata": {},
   "outputs": [
    {
     "data": {
      "text/plain": [
       "<seaborn.axisgrid.FacetGrid at 0x7fea07ba6250>"
      ]
     },
     "execution_count": 13,
     "metadata": {},
     "output_type": "execute_result"
    },
    {
     "data": {
      "image/png": "[encoded data removed]",
      "text/plain": [
       "<Figure size 360x360 with 1 Axes>"
      ]
     },
     "metadata": {
      "needs_background": "light"
     },
     "output_type": "display_data"
    }
   ],
   "source": [
    "sns.displot(boston['RM'])"
   ]
  },
  {
   "cell_type": "code",
   "execution_count": 14,
   "metadata": {},
   "outputs": [
    {
     "data": {
      "text/plain": [
       "<seaborn.axisgrid.FacetGrid at 0x7fea07ac5f90>"
      ]
     },
     "execution_count": 14,
     "metadata": {},
     "output_type": "execute_result"
    },
    {
     "data": {
      "image/png": "[encoded data removed]",
      "text/plain": [
       "<Figure size 360x360 with 1 Axes>"
      ]
     },
     "metadata": {
      "needs_background": "light"
     },
     "output_type": "display_data"
    }
   ],
   "source": [
    "sns.displot(boston['AGE'])"
   ]
  },
  {
   "cell_type": "markdown",
   "metadata": {},
   "source": [
    "#### Now, let's try machine learning regression models. "
   ]
  },
  {
   "cell_type": "markdown",
   "metadata": {},
   "source": [
    "## Algorithm1: Linear Regression"
   ]
  },
  {
   "cell_type": "code",
   "execution_count": 15,
   "metadata": {},
   "outputs": [],
   "source": [
    "# Creating Predictor variable 'X' and Target Variable 'y'\n",
    "\n",
    "# X contains all the features except for the target value Price\n",
    "X = boston.drop('PRICE', axis = 1)\n",
    "y = boston['PRICE']"
   ]
  },
  {
   "cell_type": "code",
   "execution_count": 16,
   "metadata": {},
   "outputs": [],
   "source": [
    "from sklearn.model_selection import train_test_split\n",
    "from sklearn.linear_model import LinearRegression"
   ]
  },
  {
   "cell_type": "markdown",
   "metadata": {},
   "source": [
    "#### Task-5: complete the following line of code which splits the data into training and test set: X_train contains 70% of total dataset, X_test contains 30% (10 points)"
   ]
  },
  {
   "cell_type": "code",
   "execution_count": 17,
   "metadata": {},
   "outputs": [
    {
     "name": "stdout",
     "output_type": "stream",
     "text": [
      "(354, 13)\n",
      "(152, 13)\n"
     ]
    }
   ],
   "source": [
    "X_train, X_test, y_train, y_test = train_test_split(X, y, train_size=.7)\n",
    "\n",
    "# X_train contains 70% of total dataset\n",
    "print(X_train.shape)\n",
    "# X_test contains 30% of total dataset\n",
    "print(X_test.shape)"
   ]
  },
  {
   "cell_type": "code",
   "execution_count": 18,
   "metadata": {},
   "outputs": [],
   "source": [
    "lr = LinearRegression()"
   ]
  },
  {
   "cell_type": "markdown",
   "metadata": {},
   "source": [
    "#### Task-6: fit the training dataset into linear regression model. (7.5 points)"
   ]
  },
  {
   "cell_type": "code",
   "execution_count": 19,
   "metadata": {},
   "outputs": [
    {
     "data": {
      "text/plain": [
       "LinearRegression()"
      ]
     },
     "execution_count": 19,
     "metadata": {},
     "output_type": "execute_result"
    }
   ],
   "source": [
    "#Train/fit the model to training data\n",
    "lr.fit(X_train, y_train)"
   ]
  },
  {
   "cell_type": "code",
   "execution_count": 20,
   "metadata": {},
   "outputs": [
    {
     "name": "stdout",
     "output_type": "stream",
     "text": [
      "31.605068192604875\n"
     ]
    },
    {
     "data": {
      "text/html": [
       "<div>\n",
       "<style scoped>\n",
       "    .dataframe tbody tr th:only-of-type {\n",
       "        vertical-align: middle;\n",
       "    }\n",
       "\n",
       "    .dataframe tbody tr th {\n",
       "        vertical-align: top;\n",
       "    }\n",
       "\n",
       "    .dataframe thead th {\n",
       "        text-align: right;\n",
       "    }\n",
       "</style>\n",
       "<table border=\"1\" class=\"dataframe\">\n",
       "  <thead>\n",
       "    <tr style=\"text-align: right;\">\n",
       "      <th></th>\n",
       "      <th>Coefficient</th>\n",
       "    </tr>\n",
       "  </thead>\n",
       "  <tbody>\n",
       "    <tr>\n",
       "      <th>CRIM</th>\n",
       "      <td>-0.103157</td>\n",
       "    </tr>\n",
       "    <tr>\n",
       "      <th>ZN</th>\n",
       "      <td>0.043132</td>\n",
       "    </tr>\n",
       "    <tr>\n",
       "      <th>INDUS</th>\n",
       "      <td>0.048191</td>\n",
       "    </tr>\n",
       "    <tr>\n",
       "      <th>CHAS</th>\n",
       "      <td>3.412897</td>\n",
       "    </tr>\n",
       "    <tr>\n",
       "      <th>NOX</th>\n",
       "      <td>-18.529759</td>\n",
       "    </tr>\n",
       "    <tr>\n",
       "      <th>RM</th>\n",
       "      <td>4.320194</td>\n",
       "    </tr>\n",
       "    <tr>\n",
       "      <th>AGE</th>\n",
       "      <td>0.016440</td>\n",
       "    </tr>\n",
       "    <tr>\n",
       "      <th>DIS</th>\n",
       "      <td>-1.221649</td>\n",
       "    </tr>\n",
       "    <tr>\n",
       "      <th>RAD</th>\n",
       "      <td>0.312318</td>\n",
       "    </tr>\n",
       "    <tr>\n",
       "      <th>TAX</th>\n",
       "      <td>-0.011929</td>\n",
       "    </tr>\n",
       "    <tr>\n",
       "      <th>PTRATIO</th>\n",
       "      <td>-0.973049</td>\n",
       "    </tr>\n",
       "    <tr>\n",
       "      <th>B</th>\n",
       "      <td>0.008973</td>\n",
       "    </tr>\n",
       "    <tr>\n",
       "      <th>LSTAT</th>\n",
       "      <td>-0.534271</td>\n",
       "    </tr>\n",
       "  </tbody>\n",
       "</table>\n",
       "</div>"
      ],
      "text/plain": [
       "         Coefficient\n",
       "CRIM       -0.103157\n",
       "ZN          0.043132\n",
       "INDUS       0.048191\n",
       "CHAS        3.412897\n",
       "NOX       -18.529759\n",
       "RM          4.320194\n",
       "AGE         0.016440\n",
       "DIS        -1.221649\n",
       "RAD         0.312318\n",
       "TAX        -0.011929\n",
       "PTRATIO    -0.973049\n",
       "B           0.008973\n",
       "LSTAT      -0.534271"
      ]
     },
     "execution_count": 20,
     "metadata": {},
     "output_type": "execute_result"
    }
   ],
   "source": [
    "# print the intercept\n",
    "print(lr.intercept_)\n",
    "\n",
    "#Coefficients\n",
    "coeff_df = pd.DataFrame(lr.coef_,X.columns,columns=['Coefficient'])\n",
    "coeff_df"
   ]
  },
  {
   "cell_type": "markdown",
   "metadata": {},
   "source": [
    "#### Task-7: complete the following line of codes which use the trained model above to predict the house prices on test dataset, and output the prediction result as \"pred\". (5 points)"
   ]
  },
  {
   "cell_type": "code",
   "execution_count": 21,
   "metadata": {},
   "outputs": [],
   "source": [
    "pred = lr.predict(X_test)"
   ]
  },
  {
   "cell_type": "code",
   "execution_count": 22,
   "metadata": {},
   "outputs": [
    {
     "data": {
      "text/plain": [
       "Text(0, 0.5, 'Predicted prices')"
      ]
     },
     "execution_count": 22,
     "metadata": {},
     "output_type": "execute_result"
    },
    {
     "data": {
      "image/png": "[encoded data removed]",
      "text/plain": [
       "<Figure size 432x288 with 1 Axes>"
      ]
     },
     "metadata": {
      "needs_background": "light"
     },
     "output_type": "display_data"
    }
   ],
   "source": [
    "plt.scatter(y_test,pred)\n",
    "plt.xlabel(\"Prices\")\n",
    "plt.ylabel(\"Predicted prices\")"
   ]
  },
  {
   "cell_type": "code",
   "execution_count": 23,
   "metadata": {},
   "outputs": [
    {
     "name": "stdout",
     "output_type": "stream",
     "text": [
      "MAE: 3.028813210354154\n",
      "MSE: 17.72435779000815\n",
      "RMSE: 4.210030616279192\n"
     ]
    }
   ],
   "source": [
    "# evaluating and outputing the results using different evaluation metrics (i.e., MAE, MSE, RMSE).\n",
    "from sklearn import metrics\n",
    "print('MAE:', metrics.mean_absolute_error(y_test, pred))\n",
    "print('MSE:', metrics.mean_squared_error(y_test, pred))\n",
    "print('RMSE:', np.sqrt(metrics.mean_squared_error(y_test, pred)))"
   ]
  },
  {
   "cell_type": "markdown",
   "metadata": {},
   "source": [
    "#### Task-8: Try Ridge or Lasso regressions  (set alpha=1.0) in the following steps. (20 points)"
   ]
  },
  {
   "cell_type": "code",
   "execution_count": 24,
   "metadata": {},
   "outputs": [
    {
     "name": "stdout",
     "output_type": "stream",
     "text": [
      "4.220551785678785\n"
     ]
    }
   ],
   "source": [
    "from sklearn.linear_model import Ridge\n",
    "from sklearn.linear_model import Lasso\n",
    "from sklearn.metrics import mean_squared_error\n",
    "\n",
    "#step-1: Create a ridge or lasso regression model\n",
    "ridge = Ridge(alpha = 1)\n",
    "\n",
    "#step-2: Fit to our training data (i.e., X_train and y_train)\n",
    "ridge.fit(X_train, y_train)\n",
    "\n",
    "#step-3: Apply the model too predict on our testing data (i.e., X_test)\n",
    "z = ridge.predict(X_test)\n",
    "\n",
    "#step-4: Print prediction performance RMSE\n",
    "print(np.sqrt(mean_squared_error(y_test, z)))\n"
   ]
  },
  {
   "cell_type": "code",
   "execution_count": 25,
   "metadata": {},
   "outputs": [
    {
     "name": "stdout",
     "output_type": "stream",
     "text": [
      "4.664825735893264\n"
     ]
    }
   ],
   "source": [
    "#step-1: Create a ridge or lasso regression model\n",
    "lasso = Lasso(alpha = 1)\n",
    "\n",
    "#step-2: Fit to our training data (i.e., X_train and y_train)\n",
    "lasso.fit(X_train, y_train)\n",
    "\n",
    "#step-3: Apply the model too predict on our testing data (i.e., X_test)\n",
    "z = lasso.predict(X_test)\n",
    "\n",
    "#step-4: Print prediction performance RMSE\n",
    "print(np.sqrt(mean_squared_error(y_test, z)))\n"
   ]
  },
  {
   "cell_type": "markdown",
   "metadata": {},
   "source": [
    "#### Question: Is Ridge regression and Lasso regression linear regression?  What is differnece between Ridge and Lasso regressions? (7.5 points)"
   ]
  },
  {
   "cell_type": "markdown",
   "metadata": {},
   "source": [
    "Answer:"
   ]
  },
  {
   "cell_type": "markdown",
   "metadata": {},
   "source": [
    "## Algorithm2: Neural Networks - Regression"
   ]
  },
  {
   "cell_type": "code",
   "execution_count": 26,
   "metadata": {},
   "outputs": [],
   "source": [
    "X = boston.drop('PRICE', axis = 1)\n",
    "Y = boston['PRICE']"
   ]
  },
  {
   "cell_type": "code",
   "execution_count": 27,
   "metadata": {},
   "outputs": [],
   "source": [
    "from sklearn import preprocessing"
   ]
  },
  {
   "cell_type": "markdown",
   "metadata": {},
   "source": [
    "#### Task-9: complete the following codes which apply the preprocessing method MinMaxScaler to scale the given training data X  and assign the scaled training data to variable X_scale. (10 points)"
   ]
  },
  {
   "cell_type": "code",
   "execution_count": 28,
   "metadata": {},
   "outputs": [],
   "source": [
    "from sklearn.preprocessing import MinMaxScaler\n",
    "min_max_scaler = MinMaxScaler()\n",
    "X_scale = min_max_scaler.fit_transform(X)"
   ]
  },
  {
   "cell_type": "markdown",
   "metadata": {},
   "source": [
    "#### Task-10: complete the following codes which first split the training data into training and validation_test sets (e.g., 70/30), then split the validation_test set into validation and test (e.g.,50/50). (10 points)"
   ]
  },
  {
   "cell_type": "code",
   "execution_count": 29,
   "metadata": {},
   "outputs": [
    {
     "name": "stdout",
     "output_type": "stream",
     "text": [
      "(354, 13) (76, 13) (76, 13) (354,) (76,) (76,)\n"
     ]
    }
   ],
   "source": [
    "from sklearn.model_selection import train_test_split\n",
    "X_train, X_val_and_test, Y_train, Y_val_and_test =  train_test_split(X_scale, y, train_size=.7)\n",
    "X_val, X_test, Y_val, Y_test =  train_test_split(X_val_and_test, Y_val_and_test, train_size=.5)\n",
    "print(X_train.shape, X_val.shape, X_test.shape, Y_train.shape, Y_val.shape, Y_test.shape)"
   ]
  },
  {
   "cell_type": "code",
   "execution_count": 30,
   "metadata": {},
   "outputs": [],
   "source": [
    "# import libraries of tensorflow to build neurral networks.\n",
    "import tensorflow as tf\n",
    "from tensorflow.keras.models import Sequential\n",
    "from tensorflow.keras.layers import Dense"
   ]
  },
  {
   "cell_type": "markdown",
   "metadata": {},
   "source": [
    "#### Task-11: complete the following codes which build a two layers neural network model by using Sequential. (10 points)\n",
    "#### FYI: https://www.tensorflow.org/api_docs/python/tf/keras/Sequential"
   ]
  },
  {
   "cell_type": "code",
   "execution_count": 44,
   "metadata": {},
   "outputs": [],
   "source": [
    "# Build model\n",
    "model = Sequential([\n",
    "    Dense(20,activation=\"relu\", name=\"layer1\"),\n",
    "    Dense(1, name=\"output\"),\n",
    "])"
   ]
  },
  {
   "cell_type": "markdown",
   "metadata": {},
   "source": [
    "#### Task-12: compile the model (use mean_squared_error as loss function, and apply metrics=['mse', 'mae', 'mape'])  (7.5 points)"
   ]
  },
  {
   "cell_type": "code",
   "execution_count": 45,
   "metadata": {},
   "outputs": [],
   "source": [
    "# Compile model\n",
    "model.compile(optimizer='sgd', loss='mse', metrics=[\"mse\",\"mae\",\"mape\"])\n"
   ]
  },
  {
   "cell_type": "markdown",
   "metadata": {},
   "source": [
    "#### Task-13: compelte the following codes which train/fit the model using the function of fit  (both training data and valiation data will be used)  (7.5 points)"
   ]
  },
  {
   "cell_type": "code",
   "execution_count": 46,
   "metadata": {},
   "outputs": [
    {
     "name": "stdout",
     "output_type": "stream",
     "text": [
      "Epoch 1/20\n",
      "12/12 [==============================] - 1s 20ms/step - loss: 490.9079 - mse: 490.9079 - mae: 18.7525 - mape: 81.1947 - val_loss: 181.0889 - val_mse: 181.0889 - val_mae: 12.2459 - val_mape: 76.1416\n",
      "Epoch 2/20\n",
      "12/12 [==============================] - 0s 6ms/step - loss: 96.8233 - mse: 96.8233 - mae: 7.3397 - mape: 39.0743 - val_loss: 89.0855 - val_mse: 89.0855 - val_mae: 7.0019 - val_mape: 31.1371\n",
      "Epoch 3/20\n",
      "12/12 [==============================] - 0s 6ms/step - loss: 84.2231 - mse: 84.2231 - mae: 7.0077 - mape: 35.3245 - val_loss: 40.1689 - val_mse: 40.1689 - val_mae: 4.4868 - val_mape: 23.4890\n",
      "Epoch 4/20\n",
      "12/12 [==============================] - 0s 6ms/step - loss: 41.0964 - mse: 41.0964 - mae: 4.6043 - mape: 21.8761 - val_loss: 35.3697 - val_mse: 35.3697 - val_mae: 3.9286 - val_mape: 19.1271\n",
      "Epoch 5/20\n",
      "12/12 [==============================] - 0s 6ms/step - loss: 41.3483 - mse: 41.3483 - mae: 4.5739 - mape: 23.1420 - val_loss: 80.2656 - val_mse: 80.2656 - val_mae: 8.1860 - val_mape: 45.3380\n",
      "Epoch 6/20\n",
      "12/12 [==============================] - 0s 6ms/step - loss: 49.8094 - mse: 49.8094 - mae: 5.4435 - mape: 27.6452 - val_loss: 34.0920 - val_mse: 34.0920 - val_mae: 4.1013 - val_mape: 20.1162\n",
      "Epoch 7/20\n",
      "12/12 [==============================] - 0s 6ms/step - loss: 32.6901 - mse: 32.6901 - mae: 4.3409 - mape: 23.1527 - val_loss: 70.3242 - val_mse: 70.3242 - val_mae: 7.5062 - val_mape: 40.7689\n",
      "Epoch 8/20\n",
      "12/12 [==============================] - 0s 6ms/step - loss: 65.1720 - mse: 65.1720 - mae: 6.6322 - mape: 33.6590 - val_loss: 111.4996 - val_mse: 111.4996 - val_mae: 9.0259 - val_mape: 42.5892\n",
      "Epoch 9/20\n",
      "12/12 [==============================] - 0s 6ms/step - loss: 46.9120 - mse: 46.9120 - mae: 5.1754 - mape: 26.0857 - val_loss: 88.8526 - val_mse: 88.8526 - val_mae: 7.5292 - val_mape: 38.0043\n",
      "Epoch 10/20\n",
      "12/12 [==============================] - 0s 6ms/step - loss: 42.8102 - mse: 42.8102 - mae: 5.0387 - mape: 25.3122 - val_loss: 32.3800 - val_mse: 32.3800 - val_mae: 4.1635 - val_mape: 21.0137\n",
      "Epoch 11/20\n",
      "12/12 [==============================] - 0s 6ms/step - loss: 38.8283 - mse: 38.8283 - mae: 4.8596 - mape: 25.2546 - val_loss: 29.6851 - val_mse: 29.6851 - val_mae: 3.8206 - val_mape: 19.1341\n",
      "Epoch 12/20\n",
      "12/12 [==============================] - 0s 6ms/step - loss: 28.5122 - mse: 28.5122 - mae: 3.6539 - mape: 17.6505 - val_loss: 57.8281 - val_mse: 57.8281 - val_mae: 6.2841 - val_mape: 31.0470\n",
      "Epoch 13/20\n",
      "12/12 [==============================] - 0s 6ms/step - loss: 32.7320 - mse: 32.7320 - mae: 4.4246 - mape: 23.1961 - val_loss: 97.5456 - val_mse: 97.5456 - val_mae: 8.8404 - val_mape: 45.6564\n",
      "Epoch 14/20\n",
      "12/12 [==============================] - 0s 6ms/step - loss: 52.9509 - mse: 52.9509 - mae: 5.8271 - mape: 28.1352 - val_loss: 45.9680 - val_mse: 45.9680 - val_mae: 4.6881 - val_mape: 21.5647\n",
      "Epoch 15/20\n",
      "12/12 [==============================] - 0s 6ms/step - loss: 35.0333 - mse: 35.0333 - mae: 4.6650 - mape: 22.9177 - val_loss: 77.9984 - val_mse: 77.9984 - val_mae: 7.1624 - val_mape: 33.4443\n",
      "Epoch 16/20\n",
      "12/12 [==============================] - 0s 6ms/step - loss: 40.5295 - mse: 40.5295 - mae: 4.7917 - mape: 22.3493 - val_loss: 125.5778 - val_mse: 125.5778 - val_mae: 9.7265 - val_mape: 48.4750\n",
      "Epoch 17/20\n",
      "12/12 [==============================] - 0s 6ms/step - loss: 46.4470 - mse: 46.4470 - mae: 5.2397 - mape: 24.0494 - val_loss: 33.0089 - val_mse: 33.0089 - val_mae: 3.5207 - val_mape: 16.4719\n",
      "Epoch 18/20\n",
      "12/12 [==============================] - 0s 6ms/step - loss: 22.7658 - mse: 22.7658 - mae: 3.0858 - mape: 15.1139 - val_loss: 33.4689 - val_mse: 33.4689 - val_mae: 3.6209 - val_mape: 17.4807\n",
      "Epoch 19/20\n",
      "12/12 [==============================] - 0s 6ms/step - loss: 14.2783 - mse: 14.2783 - mae: 2.7592 - mape: 14.0906 - val_loss: 38.6718 - val_mse: 38.6718 - val_mae: 4.0599 - val_mape: 19.1461\n",
      "Epoch 20/20\n",
      "12/12 [==============================] - 0s 6ms/step - loss: 23.7830 - mse: 23.7830 - mae: 3.5886 - mape: 17.6734 - val_loss: 97.8749 - val_mse: 97.8749 - val_mae: 8.9794 - val_mape: 47.7557\n"
     ]
    }
   ],
   "source": [
    "hist =  model.fit(X_train, Y_train, epochs=20, validation_data = (X_val, Y_val))\n"
   ]
  },
  {
   "cell_type": "code",
   "execution_count": 47,
   "metadata": {},
   "outputs": [
    {
     "data": {
      "image/png": "[encoded data removed]",
      "text/plain": [
       "<Figure size 432x288 with 1 Axes>"
      ]
     },
     "metadata": {
      "needs_background": "light"
     },
     "output_type": "display_data"
    }
   ],
   "source": [
    "plt.plot(hist.history['mse'])\n",
    "plt.plot(hist.history['val_mse'])\n",
    "plt.title('Model Performance')\n",
    "plt.ylabel('MSE')\n",
    "plt.xlabel('Epoch')\n",
    "plt.legend(['Train', 'Val'], loc='upper right')\n",
    "plt.show()"
   ]
  },
  {
   "cell_type": "markdown",
   "metadata": {},
   "source": [
    "#### Task-14: evaluate the model on X_test and Y_test by applying the method 'evaluate'  (5 points)"
   ]
  },
  {
   "cell_type": "code",
   "execution_count": 35,
   "metadata": {},
   "outputs": [
    {
     "name": "stdout",
     "output_type": "stream",
     "text": [
      "3/3 [==============================] - 0s 2ms/step - loss: 32.9319 - mse: 32.9319 - mae: 3.7661 - mape: 18.2302\n"
     ]
    },
    {
     "data": {
      "text/plain": [
       "[32.93193054199219, 32.93193054199219, 3.766130208969116, 18.230234146118164]"
      ]
     },
     "execution_count": 35,
     "metadata": {},
     "output_type": "execute_result"
    }
   ],
   "source": [
    "# Evaluation\n",
    "model.evaluate(X_test, Y_test)"
   ]
  },
  {
   "cell_type": "markdown",
   "metadata": {},
   "source": [
    "#### NON-mandatory task: if you have time/interest, you can visualize the prediction result and labels using scatter."
   ]
  },
  {
   "cell_type": "code",
   "execution_count": 36,
   "metadata": {},
   "outputs": [
    {
     "data": {
      "image/png": "[encoded data removed]",
      "text/plain": [
       "<Figure size 432x288 with 1 Axes>"
      ]
     },
     "metadata": {
      "needs_background": "light"
     },
     "output_type": "display_data"
    }
   ],
   "source": [
    "plt.scatter(Y_test,model.predict(X_test))\n",
    "plt.title('Model Performance')\n",
    "plt.ylabel('Predicted Prices')\n",
    "plt.xlabel('Prices')\n",
    "plt.show()"
   ]
  },
  {
   "cell_type": "markdown",
   "metadata": {},
   "source": [
    "#### Task-15:  complete the following codes to build the second neural network model with one more layer, compile, train, and evaluate the model.  (15 points)"
   ]
  },
  {
   "cell_type": "code",
   "execution_count": 42,
   "metadata": {},
   "outputs": [
    {
     "name": "stdout",
     "output_type": "stream",
     "text": [
      "Epoch 1/50\n",
      "12/12 [==============================] - 1s 21ms/step - loss: 519.4078 - mse: 519.4078 - mae: 20.1812 - mape: 87.7625 - val_loss: 119.0333 - val_mse: 119.0333 - val_mae: 9.8513 - val_mape: 59.9834\n",
      "Epoch 2/50\n",
      "12/12 [==============================] - 0s 6ms/step - loss: 243.6669 - mse: 243.6669 - mae: 12.6139 - mape: 57.1706 - val_loss: 86.2121 - val_mse: 86.2121 - val_mae: 6.6530 - val_mape: 28.6710\n",
      "Epoch 3/50\n",
      "12/12 [==============================] - 0s 6ms/step - loss: 91.6419 - mse: 91.6419 - mae: 7.0428 - mape: 32.9396 - val_loss: 69.0309 - val_mse: 69.0309 - val_mae: 7.2170 - val_mape: 42.3788\n",
      "Epoch 4/50\n",
      "12/12 [==============================] - 0s 6ms/step - loss: 52.3008 - mse: 52.3008 - mae: 5.3846 - mape: 29.7945 - val_loss: 95.4586 - val_mse: 95.4586 - val_mae: 7.0751 - val_mape: 28.8571\n",
      "Epoch 5/50\n",
      "12/12 [==============================] - 0s 6ms/step - loss: 74.2904 - mse: 74.2904 - mae: 5.9050 - mape: 27.2393 - val_loss: 312.1733 - val_mse: 312.1733 - val_mae: 14.6471 - val_mape: 65.7920\n",
      "Epoch 6/50\n",
      "12/12 [==============================] - 0s 6ms/step - loss: 360.8644 - mse: 360.8644 - mae: 16.5637 - mape: 68.5973 - val_loss: 228.2457 - val_mse: 228.2457 - val_mae: 12.5590 - val_mape: 52.2273\n",
      "Epoch 7/50\n",
      "12/12 [==============================] - 0s 6ms/step - loss: 248.6264 - mse: 248.6264 - mae: 12.8077 - mape: 51.3939 - val_loss: 161.8318 - val_mse: 161.8318 - val_mae: 9.9750 - val_mape: 40.6741\n",
      "Epoch 8/50\n",
      "12/12 [==============================] - 0s 6ms/step - loss: 202.6502 - mse: 202.6502 - mae: 11.2096 - mape: 43.1486 - val_loss: 125.6554 - val_mse: 125.6554 - val_mae: 8.4407 - val_mape: 35.1274\n",
      "Epoch 9/50\n",
      "12/12 [==============================] - 0s 6ms/step - loss: 172.2017 - mse: 172.2017 - mae: 9.6664 - mape: 38.0961 - val_loss: 98.2771 - val_mse: 98.2771 - val_mae: 7.3165 - val_mape: 32.5438\n",
      "Epoch 10/50\n",
      "12/12 [==============================] - 0s 6ms/step - loss: 133.2868 - mse: 133.2868 - mae: 8.4498 - mape: 34.1596 - val_loss: 85.9838 - val_mse: 85.9838 - val_mae: 6.8287 - val_mape: 32.3243\n",
      "Epoch 11/50\n",
      "12/12 [==============================] - 0s 6ms/step - loss: 118.0364 - mse: 118.0364 - mae: 7.6769 - mape: 32.8213 - val_loss: 78.1991 - val_mse: 78.1991 - val_mae: 6.5171 - val_mape: 32.8722\n",
      "Epoch 12/50\n",
      "12/12 [==============================] - 0s 6ms/step - loss: 109.5734 - mse: 109.5734 - mae: 7.2888 - mape: 33.6022 - val_loss: 75.2979 - val_mse: 75.2979 - val_mae: 6.3779 - val_mape: 33.3405\n",
      "Epoch 13/50\n",
      "12/12 [==============================] - 0s 6ms/step - loss: 97.1230 - mse: 97.1230 - mae: 6.8417 - mape: 34.1060 - val_loss: 73.3009 - val_mse: 73.3009 - val_mae: 6.2774 - val_mape: 34.0524\n",
      "Epoch 14/50\n",
      "12/12 [==============================] - 0s 6ms/step - loss: 91.2744 - mse: 91.2744 - mae: 6.5868 - mape: 33.8440 - val_loss: 72.6696 - val_mse: 72.6696 - val_mae: 6.2517 - val_mape: 34.5624\n",
      "Epoch 15/50\n",
      "12/12 [==============================] - 0s 6ms/step - loss: 94.3980 - mse: 94.3980 - mae: 6.9324 - mape: 37.5471 - val_loss: 72.2697 - val_mse: 72.2697 - val_mae: 6.2364 - val_mape: 35.4055\n",
      "Epoch 16/50\n",
      "12/12 [==============================] - 0s 6ms/step - loss: 91.7854 - mse: 91.7854 - mae: 6.7288 - mape: 32.9045 - val_loss: 72.3175 - val_mse: 72.3175 - val_mae: 6.2342 - val_mape: 35.9312\n",
      "Epoch 17/50\n",
      "12/12 [==============================] - 0s 6ms/step - loss: 89.2397 - mse: 89.2397 - mae: 6.6464 - mape: 34.7493 - val_loss: 72.5456 - val_mse: 72.5456 - val_mae: 6.2405 - val_mape: 36.4532\n",
      "Epoch 18/50\n",
      "12/12 [==============================] - 0s 6ms/step - loss: 90.5203 - mse: 90.5203 - mae: 6.8643 - mape: 36.7235 - val_loss: 72.6032 - val_mse: 72.6032 - val_mae: 6.2418 - val_mape: 36.5452\n",
      "Epoch 19/50\n",
      "12/12 [==============================] - 0s 6ms/step - loss: 91.2370 - mse: 91.2370 - mae: 6.9213 - mape: 39.2271 - val_loss: 72.5618 - val_mse: 72.5618 - val_mae: 6.2409 - val_mape: 36.4799\n",
      "Epoch 20/50\n",
      "12/12 [==============================] - 0s 6ms/step - loss: 92.2902 - mse: 92.2902 - mae: 7.0482 - mape: 40.3322 - val_loss: 72.7114 - val_mse: 72.7114 - val_mae: 6.2461 - val_mape: 36.7079\n",
      "Epoch 21/50\n",
      "12/12 [==============================] - 0s 6ms/step - loss: 99.9278 - mse: 99.9278 - mae: 7.1566 - mape: 36.2824 - val_loss: 73.0039 - val_mse: 73.0039 - val_mae: 6.2640 - val_mape: 37.1065\n",
      "Epoch 22/50\n",
      "12/12 [==============================] - 0s 6ms/step - loss: 92.3977 - mse: 92.3977 - mae: 6.9264 - mape: 38.3106 - val_loss: 73.7006 - val_mse: 73.7006 - val_mae: 6.3165 - val_mape: 37.9057\n",
      "Epoch 23/50\n",
      "12/12 [==============================] - 0s 6ms/step - loss: 90.9636 - mse: 90.9636 - mae: 6.9908 - mape: 37.9291 - val_loss: 74.1776 - val_mse: 74.1776 - val_mae: 6.3457 - val_mape: 38.3443\n",
      "Epoch 24/50\n",
      "12/12 [==============================] - 0s 6ms/step - loss: 94.4532 - mse: 94.4532 - mae: 7.1926 - mape: 38.8799 - val_loss: 73.9559 - val_mse: 73.9559 - val_mae: 6.3326 - val_mape: 38.1482\n",
      "Epoch 25/50\n",
      "12/12 [==============================] - 0s 6ms/step - loss: 105.7623 - mse: 105.7623 - mae: 7.5354 - mape: 38.8999 - val_loss: 73.8200 - val_mse: 73.8200 - val_mae: 6.3242 - val_mape: 38.0216\n",
      "Epoch 26/50\n",
      "12/12 [==============================] - 0s 6ms/step - loss: 93.4857 - mse: 93.4857 - mae: 7.2136 - mape: 39.9503 - val_loss: 73.5067 - val_mse: 73.5067 - val_mae: 6.3033 - val_mape: 37.7068\n",
      "Epoch 27/50\n",
      "12/12 [==============================] - 0s 6ms/step - loss: 100.2998 - mse: 100.2998 - mae: 7.3736 - mape: 40.2814 - val_loss: 73.4151 - val_mse: 73.4151 - val_mae: 6.2967 - val_mape: 37.6074\n",
      "Epoch 28/50\n",
      "12/12 [==============================] - 0s 6ms/step - loss: 82.3223 - mse: 82.3223 - mae: 6.7325 - mape: 37.2294 - val_loss: 73.9466 - val_mse: 73.9466 - val_mae: 6.3321 - val_mape: 38.1398\n",
      "Epoch 29/50\n",
      "12/12 [==============================] - 0s 6ms/step - loss: 88.9834 - mse: 88.9834 - mae: 6.9533 - mape: 38.3944 - val_loss: 73.8609 - val_mse: 73.8609 - val_mae: 6.3268 - val_mape: 38.0602\n",
      "Epoch 30/50\n",
      "12/12 [==============================] - 0s 6ms/step - loss: 92.5247 - mse: 92.5247 - mae: 7.1161 - mape: 37.7275 - val_loss: 73.9860 - val_mse: 73.9860 - val_mae: 6.3345 - val_mape: 38.1756\n",
      "Epoch 31/50\n",
      "12/12 [==============================] - 0s 6ms/step - loss: 95.1892 - mse: 95.1892 - mae: 7.1051 - mape: 38.3562 - val_loss: 73.9409 - val_mse: 73.9409 - val_mae: 6.3317 - val_mape: 38.1345\n",
      "Epoch 32/50\n",
      "12/12 [==============================] - 0s 6ms/step - loss: 97.1125 - mse: 97.1125 - mae: 7.3698 - mape: 39.3978 - val_loss: 74.0614 - val_mse: 74.0614 - val_mae: 6.3389 - val_mape: 38.2431\n",
      "Epoch 33/50\n",
      "12/12 [==============================] - 0s 6ms/step - loss: 87.3154 - mse: 87.3154 - mae: 6.8433 - mape: 35.9022 - val_loss: 73.6650 - val_mse: 73.6650 - val_mae: 6.3142 - val_mape: 37.8703\n",
      "Epoch 34/50\n",
      "12/12 [==============================] - 0s 6ms/step - loss: 87.0910 - mse: 87.0910 - mae: 6.8560 - mape: 37.0630 - val_loss: 74.0714 - val_mse: 74.0714 - val_mae: 6.3395 - val_mape: 38.2519\n",
      "Epoch 35/50\n",
      "12/12 [==============================] - 0s 6ms/step - loss: 91.4155 - mse: 91.4155 - mae: 7.2431 - mape: 40.0731 - val_loss: 73.8506 - val_mse: 73.8506 - val_mae: 6.3262 - val_mape: 38.0506\n",
      "Epoch 36/50\n",
      "12/12 [==============================] - 0s 6ms/step - loss: 86.7878 - mse: 86.7878 - mae: 6.9398 - mape: 37.8317 - val_loss: 73.8410 - val_mse: 73.8410 - val_mae: 6.3256 - val_mape: 38.0415\n",
      "Epoch 37/50\n",
      "12/12 [==============================] - 0s 6ms/step - loss: 94.8073 - mse: 94.8073 - mae: 7.1584 - mape: 38.5308 - val_loss: 74.2721 - val_mse: 74.2721 - val_mae: 6.3516 - val_mape: 38.4271\n",
      "Epoch 38/50\n",
      "12/12 [==============================] - 0s 6ms/step - loss: 84.7228 - mse: 84.7228 - mae: 6.6946 - mape: 36.9456 - val_loss: 74.3989 - val_mse: 74.3989 - val_mae: 6.3597 - val_mape: 38.5368\n",
      "Epoch 39/50\n",
      "12/12 [==============================] - 0s 6ms/step - loss: 88.9759 - mse: 88.9759 - mae: 6.9376 - mape: 37.1178 - val_loss: 74.2568 - val_mse: 74.2568 - val_mae: 6.3506 - val_mape: 38.4136\n",
      "Epoch 40/50\n",
      "12/12 [==============================] - 0s 6ms/step - loss: 93.5184 - mse: 93.5184 - mae: 7.1732 - mape: 38.8432 - val_loss: 73.8862 - val_mse: 73.8862 - val_mae: 6.3284 - val_mape: 38.0839\n",
      "Epoch 41/50\n",
      "12/12 [==============================] - 0s 6ms/step - loss: 91.8146 - mse: 91.8146 - mae: 6.9747 - mape: 39.0152 - val_loss: 73.4423 - val_mse: 73.4423 - val_mae: 6.2987 - val_mape: 37.6373\n",
      "Epoch 42/50\n",
      "12/12 [==============================] - 0s 6ms/step - loss: 91.7821 - mse: 91.7821 - mae: 7.0218 - mape: 36.9418 - val_loss: 73.3348 - val_mse: 73.3348 - val_mae: 6.2907 - val_mape: 37.5170\n",
      "Epoch 43/50\n",
      "12/12 [==============================] - 0s 6ms/step - loss: 101.7123 - mse: 101.7123 - mae: 7.4130 - mape: 40.5861 - val_loss: 73.4751 - val_mse: 73.4751 - val_mae: 6.3010 - val_mape: 37.6729\n",
      "Epoch 44/50\n",
      "12/12 [==============================] - 0s 6ms/step - loss: 97.6211 - mse: 97.6211 - mae: 7.3391 - mape: 38.0372 - val_loss: 74.4978 - val_mse: 74.4978 - val_mae: 6.3659 - val_mape: 38.6201\n",
      "Epoch 45/50\n",
      "12/12 [==============================] - 0s 6ms/step - loss: 91.6430 - mse: 91.6430 - mae: 7.1535 - mape: 37.8838 - val_loss: 75.4422 - val_mse: 75.4422 - val_mae: 6.4262 - val_mape: 39.3693\n",
      "Epoch 46/50\n",
      "12/12 [==============================] - 0s 6ms/step - loss: 97.6873 - mse: 97.6873 - mae: 7.4043 - mape: 40.2540 - val_loss: 74.8701 - val_mse: 74.8701 - val_mae: 6.3885 - val_mape: 38.9205\n",
      "Epoch 47/50\n",
      "12/12 [==============================] - 0s 6ms/step - loss: 87.6174 - mse: 87.6174 - mae: 6.7978 - mape: 36.7060 - val_loss: 74.6437 - val_mse: 74.6437 - val_mae: 6.3747 - val_mape: 38.7396\n",
      "Epoch 48/50\n",
      "12/12 [==============================] - 0s 6ms/step - loss: 94.7758 - mse: 94.7758 - mae: 7.1305 - mape: 37.0496 - val_loss: 74.4749 - val_mse: 74.4749 - val_mae: 6.3645 - val_mape: 38.6010\n",
      "Epoch 49/50\n",
      "12/12 [==============================] - 0s 6ms/step - loss: 89.2584 - mse: 89.2584 - mae: 6.8205 - mape: 37.4736 - val_loss: 74.4687 - val_mse: 74.4687 - val_mae: 6.3641 - val_mape: 38.5957\n",
      "Epoch 50/50\n",
      "12/12 [==============================] - 0s 6ms/step - loss: 90.9683 - mse: 90.9683 - mae: 6.9953 - mape: 39.7323 - val_loss: 74.4426 - val_mse: 74.4426 - val_mae: 6.3625 - val_mape: 38.5738\n",
      "3/3 [==============================] - 0s 3ms/step - loss: 62.6737 - mse: 62.6737 - mae: 5.5079 - mape: 28.3268\n"
     ]
    },
    {
     "data": {
      "text/plain": [
       "[62.673675537109375, 62.673675537109375, 5.507924556732178, 28.326801300048828]"
      ]
     },
     "execution_count": 42,
     "metadata": {},
     "output_type": "execute_result"
    }
   ],
   "source": [
    "# step-1: Build the second model with different settings\n",
    "model_2 = Sequential([\n",
    "    Dense(10, activation=\"relu\", name=\"layer1\"),\n",
    "    Dense(4, activation=\"relu\", name=\"layer2\"),\n",
    "    Dense(1, name=\"output\"),\n",
    "])\n",
    "\n",
    "# step-2: Compile model\n",
    "model_2.compile(optimizer='sgd', loss='mse', metrics=[\"mse\",\"mae\",\"mape\"])\n",
    "\n",
    "# step-3: Train/Fit the model\n",
    "hist_2 =  model_2.fit(X_train, Y_train, epochs=50, validation_data = (X_val, Y_val))\n",
    "\n",
    "# step-4: Evaluation\n",
    "model_2.evaluate(X_test, Y_test)"
   ]
  },
  {
   "cell_type": "code",
   "execution_count": 43,
   "metadata": {},
   "outputs": [
    {
     "data": {
      "image/png": "[encoded data removed]",
      "text/plain": [
       "<Figure size 432x288 with 1 Axes>"
      ]
     },
     "metadata": {
      "needs_background": "light"
     },
     "output_type": "display_data"
    }
   ],
   "source": [
    "plt.plot(hist_2.history['mse'])\n",
    "plt.plot(hist_2.history['val_mse'])\n",
    "plt.title('Model Performance')\n",
    "plt.ylabel('MSE')\n",
    "plt.xlabel('Epoch')\n",
    "plt.legend(['Train', 'Val'], loc='upper right')\n",
    "plt.show()"
   ]
  },
  {
   "cell_type": "code",
   "execution_count": 39,
   "metadata": {},
   "outputs": [],
   "source": [
    "from tensorflow.keras import regularizers\n",
    "from tensorflow.keras.layers import Dropout"
   ]
  },
  {
   "cell_type": "markdown",
   "metadata": {},
   "source": [
    "#### Task-16:  complete the following codes (steps1 - step4) to build the third neural network with different settings (try regularizer parameter and dropout), compile, train, evaluate, and predict as above.  (20 points)"
   ]
  },
  {
   "cell_type": "code",
   "execution_count": 40,
   "metadata": {},
   "outputs": [
    {
     "name": "stdout",
     "output_type": "stream",
     "text": [
      "Epoch 1/60\n",
      "3/3 [==============================] - 1s 126ms/step - loss: 527.1846 - mse: 526.9101 - mae: 21.4136 - mape: 94.0038 - val_loss: 4732.1929 - val_mse: 4731.7739 - val_mae: 66.6879 - val_mape: 394.1400\n",
      "Epoch 2/60\n",
      "3/3 [==============================] - 0s 27ms/step - loss: 3052.7014 - mse: 3031.4079 - mae: 43.5575 - mape: 202.8272 - val_loss: 543.1935 - val_mse: 492.4467 - val_mae: 20.4984 - val_mape: 95.0476\n",
      "Epoch 3/60\n",
      "3/3 [==============================] - 0s 28ms/step - loss: 568.6086 - mse: 517.8718 - mae: 21.4080 - mape: 94.4178 - val_loss: 493.0685 - val_mse: 442.3826 - val_mae: 19.2385 - val_mape: 88.1673\n",
      "Epoch 4/60\n",
      "3/3 [==============================] - 0s 27ms/step - loss: 501.1534 - mse: 450.4775 - mae: 19.7960 - mape: 88.1158 - val_loss: 447.7950 - val_mse: 397.1699 - val_mae: 18.0252 - val_mape: 81.5413\n",
      "Epoch 5/60\n",
      "3/3 [==============================] - 0s 27ms/step - loss: 453.2064 - mse: 402.5912 - mae: 18.6314 - mape: 82.0437 - val_loss: 409.2644 - val_mse: 358.7000 - val_mae: 16.9245 - val_mape: 75.5302\n",
      "Epoch 6/60\n",
      "3/3 [==============================] - 0s 27ms/step - loss: 400.6513 - mse: 350.0968 - mae: 17.2675 - mape: 76.4538 - val_loss: 373.6531 - val_mse: 323.1494 - val_mae: 15.8394 - val_mape: 69.6047\n",
      "Epoch 7/60\n",
      "3/3 [==============================] - 0s 28ms/step - loss: 402.7405 - mse: 352.2467 - mae: 16.9087 - mape: 71.6127 - val_loss: 343.2319 - val_mse: 292.7887 - val_mae: 14.8501 - val_mape: 64.2021\n",
      "Epoch 8/60\n",
      "3/3 [==============================] - 0s 27ms/step - loss: 350.2221 - mse: 299.7888 - mae: 15.4271 - mape: 65.9425 - val_loss: 316.0555 - val_mse: 265.6729 - val_mae: 13.9151 - val_mape: 59.1618\n",
      "Epoch 9/60\n",
      "3/3 [==============================] - 0s 27ms/step - loss: 298.7078 - mse: 248.3351 - mae: 14.1231 - mape: 61.3885 - val_loss: 290.7696 - val_mse: 240.4474 - val_mae: 13.0021 - val_mape: 54.3906\n",
      "Epoch 10/60\n",
      "3/3 [==============================] - 0s 27ms/step - loss: 328.2981 - mse: 277.9858 - mae: 14.4483 - mape: 58.4869 - val_loss: 271.2301 - val_mse: 220.9682 - val_mae: 12.2875 - val_mape: 50.9086\n",
      "Epoch 11/60\n",
      "3/3 [==============================] - 0s 28ms/step - loss: 285.1126 - mse: 234.8606 - mae: 13.1661 - mape: 54.1941 - val_loss: 253.1499 - val_mse: 202.9483 - val_mae: 11.5948 - val_mape: 47.5996\n",
      "Epoch 12/60\n",
      "3/3 [==============================] - 0s 30ms/step - loss: 257.2712 - mse: 207.0795 - mae: 12.2454 - mape: 50.8047 - val_loss: 237.0886 - val_mse: 186.9472 - val_mae: 10.9743 - val_mape: 44.8214\n",
      "Epoch 13/60\n",
      "3/3 [==============================] - 0s 27ms/step - loss: 245.3209 - mse: 195.1894 - mae: 11.6507 - mape: 47.6966 - val_loss: 222.9311 - val_mse: 172.8499 - val_mae: 10.4137 - val_mape: 42.4257\n",
      "Epoch 14/60\n",
      "3/3 [==============================] - 0s 27ms/step - loss: 254.1464 - mse: 204.0750 - mae: 11.6188 - mape: 45.7017 - val_loss: 210.5314 - val_mse: 160.5101 - val_mae: 9.9233 - val_mape: 40.4803\n",
      "Epoch 15/60\n",
      "3/3 [==============================] - 0s 28ms/step - loss: 220.7395 - mse: 170.7282 - mae: 10.4287 - mape: 41.6753 - val_loss: 199.4599 - val_mse: 149.4987 - val_mae: 9.4771 - val_mape: 38.8062\n",
      "Epoch 16/60\n",
      "3/3 [==============================] - 0s 28ms/step - loss: 219.2348 - mse: 169.2835 - mae: 10.2505 - mape: 40.2697 - val_loss: 190.0037 - val_mse: 140.1024 - val_mae: 9.0748 - val_mape: 37.3146\n",
      "Epoch 17/60\n",
      "3/3 [==============================] - 0s 28ms/step - loss: 205.1924 - mse: 155.3010 - mae: 9.8636 - mape: 39.1313 - val_loss: 182.0534 - val_mse: 132.2120 - val_mae: 8.7309 - val_mape: 36.1011\n",
      "Epoch 18/60\n",
      "3/3 [==============================] - 0s 27ms/step - loss: 208.5141 - mse: 158.6825 - mae: 9.8743 - mape: 37.9475 - val_loss: 174.6272 - val_mse: 124.8456 - val_mae: 8.4055 - val_mape: 35.0164\n",
      "Epoch 19/60\n",
      "3/3 [==============================] - 0s 28ms/step - loss: 186.7382 - mse: 136.9664 - mae: 8.8917 - mape: 34.8575 - val_loss: 167.9432 - val_mse: 118.2212 - val_mae: 8.1139 - val_mape: 34.1237\n",
      "Epoch 20/60\n",
      "3/3 [==============================] - 0s 27ms/step - loss: 188.5832 - mse: 138.8711 - mae: 8.8969 - mape: 34.2503 - val_loss: 162.6190 - val_mse: 112.9567 - val_mae: 7.8889 - val_mape: 33.5180\n",
      "Epoch 21/60\n",
      "3/3 [==============================] - 0s 28ms/step - loss: 159.3217 - mse: 109.6692 - mae: 7.9954 - mape: 32.8432 - val_loss: 156.3890 - val_mse: 106.7863 - val_mae: 7.6386 - val_mape: 32.9745\n",
      "Epoch 22/60\n",
      "3/3 [==============================] - 0s 27ms/step - loss: 147.1983 - mse: 97.6054 - mae: 7.3900 - mape: 30.3718 - val_loss: 151.6765 - val_mse: 102.1333 - val_mae: 7.4622 - val_mape: 32.7089\n",
      "Epoch 23/60\n",
      "3/3 [==============================] - 0s 28ms/step - loss: 141.3656 - mse: 91.8321 - mae: 7.1081 - mape: 29.7477 - val_loss: 146.8672 - val_mse: 97.3834 - val_mae: 7.2817 - val_mape: 32.5063\n",
      "Epoch 24/60\n",
      "3/3 [==============================] - 0s 29ms/step - loss: 151.5698 - mse: 102.0958 - mae: 7.2323 - mape: 29.7480 - val_loss: 143.5257 - val_mse: 94.1012 - val_mae: 7.1487 - val_mape: 32.3673\n",
      "Epoch 25/60\n",
      "3/3 [==============================] - 0s 27ms/step - loss: 142.9781 - mse: 93.5634 - mae: 6.9989 - mape: 28.1021 - val_loss: 140.7283 - val_mse: 91.3631 - val_mae: 7.0381 - val_mape: 32.2917\n",
      "Epoch 26/60\n",
      "3/3 [==============================] - 0s 28ms/step - loss: 142.5773 - mse: 93.2218 - mae: 6.7526 - mape: 28.5311 - val_loss: 137.7017 - val_mse: 88.3957 - val_mae: 6.9247 - val_mape: 32.2963\n",
      "Epoch 27/60\n",
      "3/3 [==============================] - 0s 29ms/step - loss: 137.4511 - mse: 88.1549 - mae: 6.4651 - mape: 26.9477 - val_loss: 135.2776 - val_mse: 86.0307 - val_mae: 6.8305 - val_mape: 32.3231\n",
      "Epoch 28/60\n",
      "3/3 [==============================] - 0s 29ms/step - loss: 142.6659 - mse: 93.4288 - mae: 6.7244 - mape: 27.8328 - val_loss: 133.2126 - val_mse: 84.0248 - val_mae: 6.7538 - val_mape: 32.4026\n",
      "Epoch 29/60\n",
      "3/3 [==============================] - 0s 28ms/step - loss: 142.5506 - mse: 93.3725 - mae: 6.7016 - mape: 27.7259 - val_loss: 131.5842 - val_mse: 82.4554 - val_mae: 6.6914 - val_mape: 32.4829\n",
      "Epoch 30/60\n",
      "3/3 [==============================] - 0s 29ms/step - loss: 130.3713 - mse: 81.2522 - mae: 6.2847 - mape: 27.8675 - val_loss: 130.1088 - val_mse: 81.0389 - val_mae: 6.6309 - val_mape: 32.5608\n",
      "Epoch 31/60\n",
      "3/3 [==============================] - 0s 30ms/step - loss: 123.9248 - mse: 74.8646 - mae: 5.9940 - mape: 25.9981 - val_loss: 128.9279 - val_mse: 79.9169 - val_mae: 6.5866 - val_mape: 32.6665\n",
      "Epoch 32/60\n",
      "3/3 [==============================] - 0s 27ms/step - loss: 115.4245 - mse: 66.4231 - mae: 5.6016 - mape: 24.8204 - val_loss: 127.7010 - val_mse: 78.7487 - val_mae: 6.5403 - val_mape: 32.8035\n",
      "Epoch 33/60\n",
      "3/3 [==============================] - 0s 28ms/step - loss: 122.5068 - mse: 73.5642 - mae: 5.7036 - mape: 24.1589 - val_loss: 126.6899 - val_mse: 77.7964 - val_mae: 6.4994 - val_mape: 32.9246\n",
      "Epoch 34/60\n",
      "3/3 [==============================] - 0s 30ms/step - loss: 132.3388 - mse: 83.4550 - mae: 5.9928 - mape: 25.2236 - val_loss: 125.7975 - val_mse: 76.9627 - val_mae: 6.4606 - val_mape: 33.0395\n",
      "Epoch 35/60\n",
      "3/3 [==============================] - 0s 29ms/step - loss: 110.3774 - mse: 61.5522 - mae: 5.2283 - mape: 24.9217 - val_loss: 124.7751 - val_mse: 75.9988 - val_mae: 6.4130 - val_mape: 33.1958\n",
      "Epoch 36/60\n",
      "3/3 [==============================] - 0s 28ms/step - loss: 121.3725 - mse: 72.6059 - mae: 5.5466 - mape: 23.7848 - val_loss: 124.0971 - val_mse: 75.3793 - val_mae: 6.3822 - val_mape: 33.3229\n",
      "Epoch 37/60\n",
      "3/3 [==============================] - 0s 31ms/step - loss: 115.2558 - mse: 66.5476 - mae: 5.3714 - mape: 24.7675 - val_loss: 123.5209 - val_mse: 74.8615 - val_mae: 6.3539 - val_mape: 33.4392\n",
      "Epoch 38/60\n",
      "3/3 [==============================] - 0s 29ms/step - loss: 112.1506 - mse: 63.5008 - mae: 5.0708 - mape: 23.2621 - val_loss: 122.9833 - val_mse: 74.3823 - val_mae: 6.3252 - val_mape: 33.5577\n",
      "Epoch 39/60\n",
      "3/3 [==============================] - 0s 28ms/step - loss: 105.5619 - mse: 56.9704 - mae: 4.8589 - mape: 22.4880 - val_loss: 122.4944 - val_mse: 73.9517 - val_mae: 6.3021 - val_mape: 33.7047\n",
      "Epoch 40/60\n",
      "3/3 [==============================] - 0s 27ms/step - loss: 109.2309 - mse: 60.6978 - mae: 5.1824 - mape: 25.3499 - val_loss: 121.9808 - val_mse: 73.4963 - val_mae: 6.2847 - val_mape: 33.9347\n",
      "Epoch 41/60\n",
      "3/3 [==============================] - 0s 28ms/step - loss: 119.5697 - mse: 71.0947 - mae: 5.3681 - mape: 25.0220 - val_loss: 121.5948 - val_mse: 73.1685 - val_mae: 6.2721 - val_mape: 34.1386\n",
      "Epoch 42/60\n",
      "3/3 [==============================] - 0s 28ms/step - loss: 119.2471 - mse: 70.8303 - mae: 5.5162 - mape: 25.3479 - val_loss: 121.3668 - val_mse: 72.9985 - val_mae: 6.2647 - val_mape: 34.2591\n",
      "Epoch 43/60\n",
      "3/3 [==============================] - 0s 28ms/step - loss: 115.7668 - mse: 67.4081 - mae: 5.2439 - mape: 24.2182 - val_loss: 121.1094 - val_mse: 72.7991 - val_mae: 6.2567 - val_mape: 34.4291\n",
      "Epoch 44/60\n",
      "3/3 [==============================] - 0s 28ms/step - loss: 105.4662 - mse: 57.1655 - mae: 5.0770 - mape: 26.5112 - val_loss: 120.8603 - val_mse: 72.6080 - val_mae: 6.2495 - val_mape: 34.6355\n",
      "Epoch 45/60\n",
      "3/3 [==============================] - 0s 28ms/step - loss: 113.9376 - mse: 65.6948 - mae: 5.4400 - mape: 26.8261 - val_loss: 120.6591 - val_mse: 72.4647 - val_mae: 6.2459 - val_mape: 34.8477\n",
      "Epoch 46/60\n",
      "3/3 [==============================] - 0s 28ms/step - loss: 121.0673 - mse: 72.8824 - mae: 5.5367 - mape: 24.6266 - val_loss: 120.5514 - val_mse: 72.4147 - val_mae: 6.2444 - val_mape: 34.9390\n",
      "Epoch 47/60\n",
      "3/3 [==============================] - 0s 29ms/step - loss: 100.7765 - mse: 52.6493 - mae: 4.9078 - mape: 24.6149 - val_loss: 120.4150 - val_mse: 72.3361 - val_mae: 6.2412 - val_mape: 35.1215\n",
      "Epoch 48/60\n",
      "3/3 [==============================] - 0s 29ms/step - loss: 105.2264 - mse: 57.1570 - mae: 4.9612 - mape: 24.3037 - val_loss: 120.3185 - val_mse: 72.2973 - val_mae: 6.2390 - val_mape: 35.2510\n",
      "Epoch 49/60\n",
      "3/3 [==============================] - 0s 29ms/step - loss: 104.3603 - mse: 56.3486 - mae: 5.1074 - mape: 26.7754 - val_loss: 120.2386 - val_mse: 72.2750 - val_mae: 6.2371 - val_mape: 35.3649\n",
      "Epoch 50/60\n",
      "3/3 [==============================] - 0s 30ms/step - loss: 114.3856 - mse: 66.4314 - mae: 5.4681 - mape: 26.3745 - val_loss: 120.1705 - val_mse: 72.2644 - val_mae: 6.2354 - val_mape: 35.4650\n",
      "Epoch 51/60\n",
      "3/3 [==============================] - 0s 32ms/step - loss: 108.9862 - mse: 61.0895 - mae: 5.2466 - mape: 24.7650 - val_loss: 120.1107 - val_mse: 72.2621 - val_mae: 6.2342 - val_mape: 35.5321\n",
      "Epoch 52/60\n",
      "3/3 [==============================] - 0s 29ms/step - loss: 108.9854 - mse: 61.1462 - mae: 5.1065 - mape: 24.2980 - val_loss: 120.0625 - val_mse: 72.2713 - val_mae: 6.2342 - val_mape: 35.6996\n",
      "Epoch 53/60\n",
      "3/3 [==============================] - 0s 28ms/step - loss: 116.9623 - mse: 69.1805 - mae: 5.5887 - mape: 27.1160 - val_loss: 120.0162 - val_mse: 72.2822 - val_mae: 6.2342 - val_mape: 35.7761\n",
      "Epoch 54/60\n",
      "3/3 [==============================] - 0s 28ms/step - loss: 105.3678 - mse: 57.6433 - mae: 5.1603 - mape: 25.8460 - val_loss: 120.0056 - val_mse: 72.3289 - val_mae: 6.2342 - val_mape: 35.9697\n",
      "Epoch 55/60\n",
      "3/3 [==============================] - 0s 27ms/step - loss: 119.1679 - mse: 71.5006 - mae: 5.6084 - mape: 26.6369 - val_loss: 119.9557 - val_mse: 72.3362 - val_mae: 6.2342 - val_mape: 35.9924\n",
      "Epoch 56/60\n",
      "3/3 [==============================] - 0s 28ms/step - loss: 108.3790 - mse: 60.7689 - mae: 5.1256 - mape: 26.6282 - val_loss: 119.9721 - val_mse: 72.4097 - val_mae: 6.2366 - val_mape: 36.1892\n",
      "Epoch 57/60\n",
      "3/3 [==============================] - 0s 28ms/step - loss: 108.9534 - mse: 61.4004 - mae: 5.1355 - mape: 24.3781 - val_loss: 119.9516 - val_mse: 72.4463 - val_mae: 6.2377 - val_mape: 36.2692\n",
      "Epoch 58/60\n",
      "3/3 [==============================] - 0s 27ms/step - loss: 106.6392 - mse: 59.1433 - mae: 5.1836 - mape: 23.6648 - val_loss: 119.8737 - val_mse: 72.4254 - val_mae: 6.2371 - val_mape: 36.2245\n",
      "Epoch 59/60\n",
      "3/3 [==============================] - 0s 31ms/step - loss: 100.7980 - mse: 53.3590 - mae: 4.8596 - mape: 23.7355 - val_loss: 119.8889 - val_mse: 72.4975 - val_mae: 6.2392 - val_mape: 36.3690\n",
      "Epoch 60/60\n",
      "3/3 [==============================] - 0s 30ms/step - loss: 116.0533 - mse: 68.6712 - mae: 5.5807 - mape: 27.2622 - val_loss: 119.8605 - val_mse: 72.5259 - val_mae: 6.2400 - val_mape: 36.4197\n",
      "3/3 [==============================] - 0s 2ms/step - loss: 110.0835 - mse: 62.7489 - mae: 5.2740 - mape: 26.1153\n"
     ]
    },
    {
     "data": {
      "text/plain": [
       "[110.08349609375, 62.7489013671875, 5.274039268493652, 26.115324020385742]"
      ]
     },
     "execution_count": 40,
     "metadata": {},
     "output_type": "execute_result"
    }
   ],
   "source": [
    "# step-1: Build model \n",
    "model_3 = Sequential([\n",
    "    Dense(10, activation=\"relu\", kernel_regularizer='l2', name=\"layer1\"),\n",
    "    Dropout(.2),\n",
    "    Dense(20, activation=\"relu\", kernel_regularizer='l2', name=\"layer3\"),\n",
    "    Dropout(.1),\n",
    "    Dense(2, activation=\"relu\", kernel_regularizer='l2', name=\"layer5\"),\n",
    "    Dropout(.1),\n",
    "    Dense(1, name=\"output\"),\n",
    "])\n",
    "\n",
    "# step-2: Compile model\n",
    "model_3.compile(optimizer='sgd', loss='mse', metrics=[\"mse\",\"mae\",\"mape\"])\n",
    "\n",
    "# step-3: Train/Fit the model\n",
    "hist_3 = model_3.fit(X_test, Y_test, epochs=60, validation_data=(X_val,Y_val))\n",
    "\n",
    "# step-4: Evalution\n",
    "model_3.evaluate(X_test, Y_test)"
   ]
  },
  {
   "cell_type": "code",
   "execution_count": 41,
   "metadata": {},
   "outputs": [
    {
     "data": {
      "image/png": "[encoded data removed]",
      "text/plain": [
       "<Figure size 432x288 with 1 Axes>"
      ]
     },
     "metadata": {
      "needs_background": "light"
     },
     "output_type": "display_data"
    }
   ],
   "source": [
    "plt.plot(hist_3.history['mse'])\n",
    "plt.plot(hist_3.history['val_mse'])\n",
    "plt.title('Model Performance')\n",
    "plt.ylabel('MSE')\n",
    "plt.xlabel('Epoch')\n",
    "plt.legend(['Train', 'Val'], loc='upper right')\n",
    "plt.show()"
   ]
  },
  {
   "cell_type": "markdown",
   "metadata": {},
   "source": [
    "#### Congratualtions if you ran through above!  "
   ]
  }
 ],
 "metadata": {
  "environment": {
   "name": "common-cpu.mnightly-2021-02-12-debian-10-test",
   "type": "gcloud",
   "uri": "gcr.io/deeplearning-platform-release/base-cpu:mnightly-2021-02-12-debian-10-test"
  },
  "kernelspec": {
   "display_name": "Python 3",
   "language": "python",
   "name": "python3"
  },
  "language_info": {
   "codemirror_mode": {
    "name": "ipython",
    "version": 3
   },
   "file_extension": ".py",
   "mimetype": "text/x-python",
   "name": "python",
   "nbconvert_exporter": "python",
   "pygments_lexer": "ipython3",
   "version": "3.7.9"
  }
 },
 "nbformat": 4,
 "nbformat_minor": 4
}
