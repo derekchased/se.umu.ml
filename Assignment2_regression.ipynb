{
 "cells": [
  {
   "cell_type": "markdown",
   "metadata": {},
   "source": [
    "#### Welcome to Assingment  2 of Machine Learning Course 5DV194! \n",
    "The task is to develop regression algorithms to predict house prices.\n",
    "#### Deadline of Assignment 2:\n",
    "10 March, 2021 (23:59:59 Stockholm time)\n",
    "\n",
    "\n",
    "#### Goal \n",
    "To practice linear regression and neural network on housing price prediction. Additionally, to get familiar with the libraries of pandas (e.g., data frame), tensorflow (e.g., sequential), sklearn (e.g., linear regression, ridge regression, preprocessing).\n",
    "#### Dataset\n",
    "The Boston Housing Dataset\n",
    "https://www.cs.toronto.edu/~delve/data/boston/bostonDetail.html\n",
    "\n",
    " \n",
    "\n",
    "#### Grading (200 points)\n",
    "##### 160 points \n",
    "Follow this jupyter notebook file below, you will find some tasks to complete by coding.  \n",
    "##### 40 points (report)\n",
    "Write a report (1 page, Times New Roman, font 11) which should include comparision of both algorithms on different settings (30 points); And your thoughts/options about the difference of them (different algorithms, different settings, different performance). (10 points).     \n",
    " \n",
    "\n",
    "Upload the report PDF and this jupyter notebook file \"Assignment2_regression.ipynb\" to Cambro/Drop Box."
   ]
  },
  {
   "cell_type": "raw",
   "metadata": {},
   "source": [
    "# In order to run the following codes, you need to install some libraries, such as pandas, numpy, matplotlib, seaborn, tensorlfow, scikit-learn. \n",
    "# You can use command 'conda install pandas' or 'pip install pandas'. \n",
    "# Or you can list all libraries in a txt file, one per line, and install them once 'pip install -r yourFileName.txt'"
   ]
  },
  {
   "cell_type": "markdown",
   "metadata": {},
   "source": [
    "## Import  some libraries"
   ]
  },
  {
   "cell_type": "code",
   "execution_count": 1,
   "metadata": {},
   "outputs": [],
   "source": [
    "import pandas as pd\n",
    "import matplotlib.pyplot as plt\n",
    "import seaborn as sns\n",
    "%matplotlib inline"
   ]
  },
  {
   "cell_type": "markdown",
   "metadata": {},
   "source": [
    "#### Task-1: import the library of 'numpy' and give it an alias as \"np\" (5 points)"
   ]
  },
  {
   "cell_type": "code",
   "execution_count": 2,
   "metadata": {},
   "outputs": [],
   "source": [
    "import numpy as np"
   ]
  },
  {
   "cell_type": "markdown",
   "metadata": {},
   "source": [
    "## Get the data"
   ]
  },
  {
   "cell_type": "code",
   "execution_count": 3,
   "metadata": {},
   "outputs": [],
   "source": [
    "from sklearn.datasets import load_boston\n",
    "housing_data = load_boston()"
   ]
  },
  {
   "cell_type": "markdown",
   "metadata": {},
   "source": [
    "## Explore the data a bit"
   ]
  },
  {
   "cell_type": "code",
   "execution_count": 4,
   "metadata": {},
   "outputs": [
    {
     "name": "stdout",
     "output_type": "stream",
     "text": [
      "dict_keys(['data', 'target', 'feature_names', 'DESCR', 'filename'])\n"
     ]
    }
   ],
   "source": [
    "# Checing the keys of the dataset, which is in dictionary format.\n",
    "print(housing_data.keys())"
   ]
  },
  {
   "cell_type": "code",
   "execution_count": 5,
   "metadata": {},
   "outputs": [
    {
     "name": "stdout",
     "output_type": "stream",
     "text": [
      ".. _boston_dataset:\n",
      "\n",
      "Boston house prices dataset\n",
      "---------------------------\n",
      "\n",
      "**Data Set Characteristics:**  \n",
      "\n",
      "    :Number of Instances: 506 \n",
      "\n",
      "    :Number of Attributes: 13 numeric/categorical predictive. Median Value (attribute 14) is usually the target.\n",
      "\n",
      "    :Attribute Information (in order):\n",
      "        - CRIM     per capita crime rate by town\n",
      "        - ZN       proportion of residential land zoned for lots over 25,000 sq.ft.\n",
      "        - INDUS    proportion of non-retail business acres per town\n",
      "        - CHAS     Charles River dummy variable (= 1 if tract bounds river; 0 otherwise)\n",
      "        - NOX      nitric oxides concentration (parts per 10 million)\n",
      "        - RM       average number of rooms per dwelling\n",
      "        - AGE      proportion of owner-occupied units built prior to 1940\n",
      "        - DIS      weighted distances to five Boston employment centres\n",
      "        - RAD      index of accessibility to radial highways\n",
      "        - TAX      full-value property-tax rate per $10,000\n",
      "        - PTRATIO  pupil-teacher ratio by town\n",
      "        - B        1000(Bk - 0.63)^2 where Bk is the proportion of blacks by town\n",
      "        - LSTAT    % lower status of the population\n",
      "        - MEDV     Median value of owner-occupied homes in $1000's\n",
      "\n",
      "    :Missing Attribute Values: None\n",
      "\n",
      "    :Creator: Harrison, D. and Rubinfeld, D.L.\n",
      "\n",
      "This is a copy of UCI ML housing dataset.\n",
      "https://archive.ics.uci.edu/ml/machine-learning-databases/housing/\n",
      "\n",
      "\n",
      "This dataset was taken from the StatLib library which is maintained at Carnegie Mellon University.\n",
      "\n",
      "The Boston house-price data of Harrison, D. and Rubinfeld, D.L. 'Hedonic\n",
      "prices and the demand for clean air', J. Environ. Economics & Management,\n",
      "vol.5, 81-102, 1978.   Used in Belsley, Kuh & Welsch, 'Regression diagnostics\n",
      "...', Wiley, 1980.   N.B. Various transformations are used in the table on\n",
      "pages 244-261 of the latter.\n",
      "\n",
      "The Boston house-price data has been used in many machine learning papers that address regression\n",
      "problems.   \n",
      "     \n",
      ".. topic:: References\n",
      "\n",
      "   - Belsley, Kuh & Welsch, 'Regression diagnostics: Identifying Influential Data and Sources of Collinearity', Wiley, 1980. 244-261.\n",
      "   - Quinlan,R. (1993). Combining Instance-Based and Model-Based Learning. In Proceedings on the Tenth International Conference of Machine Learning, 236-243, University of Massachusetts, Amherst. Morgan Kaufmann.\n",
      "\n"
     ]
    }
   ],
   "source": [
    "# Checking description of the dataset\n",
    "print (housing_data[\"DESCR\"])"
   ]
  },
  {
   "cell_type": "code",
   "execution_count": 6,
   "metadata": {},
   "outputs": [],
   "source": [
    "# Converting the data into Data Frame using pandas\n",
    "boston = pd.DataFrame(housing_data.data)\n",
    "#Assigning feature-names to colums of data frame\n",
    "boston.columns = housing_data.feature_names"
   ]
  },
  {
   "cell_type": "markdown",
   "metadata": {},
   "source": [
    "#### Task-2: Print the first ten rows for the dataframe boston (5 points)"
   ]
  },
  {
   "cell_type": "code",
   "execution_count": 7,
   "metadata": {
    "scrolled": true
   },
   "outputs": [
    {
     "data": {
      "text/html": [
       "<div>\n",
       "<style scoped>\n",
       "    .dataframe tbody tr th:only-of-type {\n",
       "        vertical-align: middle;\n",
       "    }\n",
       "\n",
       "    .dataframe tbody tr th {\n",
       "        vertical-align: top;\n",
       "    }\n",
       "\n",
       "    .dataframe thead th {\n",
       "        text-align: right;\n",
       "    }\n",
       "</style>\n",
       "<table border=\"1\" class=\"dataframe\">\n",
       "  <thead>\n",
       "    <tr style=\"text-align: right;\">\n",
       "      <th></th>\n",
       "      <th>CRIM</th>\n",
       "      <th>ZN</th>\n",
       "      <th>INDUS</th>\n",
       "      <th>CHAS</th>\n",
       "      <th>NOX</th>\n",
       "      <th>RM</th>\n",
       "      <th>AGE</th>\n",
       "      <th>DIS</th>\n",
       "      <th>RAD</th>\n",
       "      <th>TAX</th>\n",
       "      <th>PTRATIO</th>\n",
       "      <th>B</th>\n",
       "      <th>LSTAT</th>\n",
       "    </tr>\n",
       "  </thead>\n",
       "  <tbody>\n",
       "    <tr>\n",
       "      <th>0</th>\n",
       "      <td>0.00632</td>\n",
       "      <td>18.0</td>\n",
       "      <td>2.31</td>\n",
       "      <td>0.0</td>\n",
       "      <td>0.538</td>\n",
       "      <td>6.575</td>\n",
       "      <td>65.2</td>\n",
       "      <td>4.0900</td>\n",
       "      <td>1.0</td>\n",
       "      <td>296.0</td>\n",
       "      <td>15.3</td>\n",
       "      <td>396.90</td>\n",
       "      <td>4.98</td>\n",
       "    </tr>\n",
       "    <tr>\n",
       "      <th>1</th>\n",
       "      <td>0.02731</td>\n",
       "      <td>0.0</td>\n",
       "      <td>7.07</td>\n",
       "      <td>0.0</td>\n",
       "      <td>0.469</td>\n",
       "      <td>6.421</td>\n",
       "      <td>78.9</td>\n",
       "      <td>4.9671</td>\n",
       "      <td>2.0</td>\n",
       "      <td>242.0</td>\n",
       "      <td>17.8</td>\n",
       "      <td>396.90</td>\n",
       "      <td>9.14</td>\n",
       "    </tr>\n",
       "    <tr>\n",
       "      <th>2</th>\n",
       "      <td>0.02729</td>\n",
       "      <td>0.0</td>\n",
       "      <td>7.07</td>\n",
       "      <td>0.0</td>\n",
       "      <td>0.469</td>\n",
       "      <td>7.185</td>\n",
       "      <td>61.1</td>\n",
       "      <td>4.9671</td>\n",
       "      <td>2.0</td>\n",
       "      <td>242.0</td>\n",
       "      <td>17.8</td>\n",
       "      <td>392.83</td>\n",
       "      <td>4.03</td>\n",
       "    </tr>\n",
       "    <tr>\n",
       "      <th>3</th>\n",
       "      <td>0.03237</td>\n",
       "      <td>0.0</td>\n",
       "      <td>2.18</td>\n",
       "      <td>0.0</td>\n",
       "      <td>0.458</td>\n",
       "      <td>6.998</td>\n",
       "      <td>45.8</td>\n",
       "      <td>6.0622</td>\n",
       "      <td>3.0</td>\n",
       "      <td>222.0</td>\n",
       "      <td>18.7</td>\n",
       "      <td>394.63</td>\n",
       "      <td>2.94</td>\n",
       "    </tr>\n",
       "    <tr>\n",
       "      <th>4</th>\n",
       "      <td>0.06905</td>\n",
       "      <td>0.0</td>\n",
       "      <td>2.18</td>\n",
       "      <td>0.0</td>\n",
       "      <td>0.458</td>\n",
       "      <td>7.147</td>\n",
       "      <td>54.2</td>\n",
       "      <td>6.0622</td>\n",
       "      <td>3.0</td>\n",
       "      <td>222.0</td>\n",
       "      <td>18.7</td>\n",
       "      <td>396.90</td>\n",
       "      <td>5.33</td>\n",
       "    </tr>\n",
       "    <tr>\n",
       "      <th>5</th>\n",
       "      <td>0.02985</td>\n",
       "      <td>0.0</td>\n",
       "      <td>2.18</td>\n",
       "      <td>0.0</td>\n",
       "      <td>0.458</td>\n",
       "      <td>6.430</td>\n",
       "      <td>58.7</td>\n",
       "      <td>6.0622</td>\n",
       "      <td>3.0</td>\n",
       "      <td>222.0</td>\n",
       "      <td>18.7</td>\n",
       "      <td>394.12</td>\n",
       "      <td>5.21</td>\n",
       "    </tr>\n",
       "    <tr>\n",
       "      <th>6</th>\n",
       "      <td>0.08829</td>\n",
       "      <td>12.5</td>\n",
       "      <td>7.87</td>\n",
       "      <td>0.0</td>\n",
       "      <td>0.524</td>\n",
       "      <td>6.012</td>\n",
       "      <td>66.6</td>\n",
       "      <td>5.5605</td>\n",
       "      <td>5.0</td>\n",
       "      <td>311.0</td>\n",
       "      <td>15.2</td>\n",
       "      <td>395.60</td>\n",
       "      <td>12.43</td>\n",
       "    </tr>\n",
       "    <tr>\n",
       "      <th>7</th>\n",
       "      <td>0.14455</td>\n",
       "      <td>12.5</td>\n",
       "      <td>7.87</td>\n",
       "      <td>0.0</td>\n",
       "      <td>0.524</td>\n",
       "      <td>6.172</td>\n",
       "      <td>96.1</td>\n",
       "      <td>5.9505</td>\n",
       "      <td>5.0</td>\n",
       "      <td>311.0</td>\n",
       "      <td>15.2</td>\n",
       "      <td>396.90</td>\n",
       "      <td>19.15</td>\n",
       "    </tr>\n",
       "    <tr>\n",
       "      <th>8</th>\n",
       "      <td>0.21124</td>\n",
       "      <td>12.5</td>\n",
       "      <td>7.87</td>\n",
       "      <td>0.0</td>\n",
       "      <td>0.524</td>\n",
       "      <td>5.631</td>\n",
       "      <td>100.0</td>\n",
       "      <td>6.0821</td>\n",
       "      <td>5.0</td>\n",
       "      <td>311.0</td>\n",
       "      <td>15.2</td>\n",
       "      <td>386.63</td>\n",
       "      <td>29.93</td>\n",
       "    </tr>\n",
       "    <tr>\n",
       "      <th>9</th>\n",
       "      <td>0.17004</td>\n",
       "      <td>12.5</td>\n",
       "      <td>7.87</td>\n",
       "      <td>0.0</td>\n",
       "      <td>0.524</td>\n",
       "      <td>6.004</td>\n",
       "      <td>85.9</td>\n",
       "      <td>6.5921</td>\n",
       "      <td>5.0</td>\n",
       "      <td>311.0</td>\n",
       "      <td>15.2</td>\n",
       "      <td>386.71</td>\n",
       "      <td>17.10</td>\n",
       "    </tr>\n",
       "  </tbody>\n",
       "</table>\n",
       "</div>"
      ],
      "text/plain": [
       "      CRIM    ZN  INDUS  CHAS    NOX     RM    AGE     DIS  RAD    TAX  \\\n",
       "0  0.00632  18.0   2.31   0.0  0.538  6.575   65.2  4.0900  1.0  296.0   \n",
       "1  0.02731   0.0   7.07   0.0  0.469  6.421   78.9  4.9671  2.0  242.0   \n",
       "2  0.02729   0.0   7.07   0.0  0.469  7.185   61.1  4.9671  2.0  242.0   \n",
       "3  0.03237   0.0   2.18   0.0  0.458  6.998   45.8  6.0622  3.0  222.0   \n",
       "4  0.06905   0.0   2.18   0.0  0.458  7.147   54.2  6.0622  3.0  222.0   \n",
       "5  0.02985   0.0   2.18   0.0  0.458  6.430   58.7  6.0622  3.0  222.0   \n",
       "6  0.08829  12.5   7.87   0.0  0.524  6.012   66.6  5.5605  5.0  311.0   \n",
       "7  0.14455  12.5   7.87   0.0  0.524  6.172   96.1  5.9505  5.0  311.0   \n",
       "8  0.21124  12.5   7.87   0.0  0.524  5.631  100.0  6.0821  5.0  311.0   \n",
       "9  0.17004  12.5   7.87   0.0  0.524  6.004   85.9  6.5921  5.0  311.0   \n",
       "\n",
       "   PTRATIO       B  LSTAT  \n",
       "0     15.3  396.90   4.98  \n",
       "1     17.8  396.90   9.14  \n",
       "2     17.8  392.83   4.03  \n",
       "3     18.7  394.63   2.94  \n",
       "4     18.7  396.90   5.33  \n",
       "5     18.7  394.12   5.21  \n",
       "6     15.2  395.60  12.43  \n",
       "7     15.2  396.90  19.15  \n",
       "8     15.2  386.63  29.93  \n",
       "9     15.2  386.71  17.10  "
      ]
     },
     "execution_count": 7,
     "metadata": {},
     "output_type": "execute_result"
    }
   ],
   "source": [
    "boston.head(10)"
   ]
  },
  {
   "cell_type": "code",
   "execution_count": 8,
   "metadata": {},
   "outputs": [
    {
     "data": {
      "text/html": [
       "<div>\n",
       "<style scoped>\n",
       "    .dataframe tbody tr th:only-of-type {\n",
       "        vertical-align: middle;\n",
       "    }\n",
       "\n",
       "    .dataframe tbody tr th {\n",
       "        vertical-align: top;\n",
       "    }\n",
       "\n",
       "    .dataframe thead th {\n",
       "        text-align: right;\n",
       "    }\n",
       "</style>\n",
       "<table border=\"1\" class=\"dataframe\">\n",
       "  <thead>\n",
       "    <tr style=\"text-align: right;\">\n",
       "      <th></th>\n",
       "      <th>CRIM</th>\n",
       "      <th>ZN</th>\n",
       "      <th>INDUS</th>\n",
       "      <th>CHAS</th>\n",
       "      <th>NOX</th>\n",
       "      <th>RM</th>\n",
       "      <th>AGE</th>\n",
       "      <th>DIS</th>\n",
       "      <th>RAD</th>\n",
       "      <th>TAX</th>\n",
       "      <th>PTRATIO</th>\n",
       "      <th>B</th>\n",
       "      <th>LSTAT</th>\n",
       "      <th>PRICE</th>\n",
       "    </tr>\n",
       "  </thead>\n",
       "  <tbody>\n",
       "    <tr>\n",
       "      <th>0</th>\n",
       "      <td>0.00632</td>\n",
       "      <td>18.0</td>\n",
       "      <td>2.31</td>\n",
       "      <td>0.0</td>\n",
       "      <td>0.538</td>\n",
       "      <td>6.575</td>\n",
       "      <td>65.2</td>\n",
       "      <td>4.0900</td>\n",
       "      <td>1.0</td>\n",
       "      <td>296.0</td>\n",
       "      <td>15.3</td>\n",
       "      <td>396.90</td>\n",
       "      <td>4.98</td>\n",
       "      <td>24.0</td>\n",
       "    </tr>\n",
       "    <tr>\n",
       "      <th>1</th>\n",
       "      <td>0.02731</td>\n",
       "      <td>0.0</td>\n",
       "      <td>7.07</td>\n",
       "      <td>0.0</td>\n",
       "      <td>0.469</td>\n",
       "      <td>6.421</td>\n",
       "      <td>78.9</td>\n",
       "      <td>4.9671</td>\n",
       "      <td>2.0</td>\n",
       "      <td>242.0</td>\n",
       "      <td>17.8</td>\n",
       "      <td>396.90</td>\n",
       "      <td>9.14</td>\n",
       "      <td>21.6</td>\n",
       "    </tr>\n",
       "    <tr>\n",
       "      <th>2</th>\n",
       "      <td>0.02729</td>\n",
       "      <td>0.0</td>\n",
       "      <td>7.07</td>\n",
       "      <td>0.0</td>\n",
       "      <td>0.469</td>\n",
       "      <td>7.185</td>\n",
       "      <td>61.1</td>\n",
       "      <td>4.9671</td>\n",
       "      <td>2.0</td>\n",
       "      <td>242.0</td>\n",
       "      <td>17.8</td>\n",
       "      <td>392.83</td>\n",
       "      <td>4.03</td>\n",
       "      <td>34.7</td>\n",
       "    </tr>\n",
       "    <tr>\n",
       "      <th>3</th>\n",
       "      <td>0.03237</td>\n",
       "      <td>0.0</td>\n",
       "      <td>2.18</td>\n",
       "      <td>0.0</td>\n",
       "      <td>0.458</td>\n",
       "      <td>6.998</td>\n",
       "      <td>45.8</td>\n",
       "      <td>6.0622</td>\n",
       "      <td>3.0</td>\n",
       "      <td>222.0</td>\n",
       "      <td>18.7</td>\n",
       "      <td>394.63</td>\n",
       "      <td>2.94</td>\n",
       "      <td>33.4</td>\n",
       "    </tr>\n",
       "    <tr>\n",
       "      <th>4</th>\n",
       "      <td>0.06905</td>\n",
       "      <td>0.0</td>\n",
       "      <td>2.18</td>\n",
       "      <td>0.0</td>\n",
       "      <td>0.458</td>\n",
       "      <td>7.147</td>\n",
       "      <td>54.2</td>\n",
       "      <td>6.0622</td>\n",
       "      <td>3.0</td>\n",
       "      <td>222.0</td>\n",
       "      <td>18.7</td>\n",
       "      <td>396.90</td>\n",
       "      <td>5.33</td>\n",
       "      <td>36.2</td>\n",
       "    </tr>\n",
       "  </tbody>\n",
       "</table>\n",
       "</div>"
      ],
      "text/plain": [
       "      CRIM    ZN  INDUS  CHAS    NOX     RM   AGE     DIS  RAD    TAX  \\\n",
       "0  0.00632  18.0   2.31   0.0  0.538  6.575  65.2  4.0900  1.0  296.0   \n",
       "1  0.02731   0.0   7.07   0.0  0.469  6.421  78.9  4.9671  2.0  242.0   \n",
       "2  0.02729   0.0   7.07   0.0  0.469  7.185  61.1  4.9671  2.0  242.0   \n",
       "3  0.03237   0.0   2.18   0.0  0.458  6.998  45.8  6.0622  3.0  222.0   \n",
       "4  0.06905   0.0   2.18   0.0  0.458  7.147  54.2  6.0622  3.0  222.0   \n",
       "\n",
       "   PTRATIO       B  LSTAT  PRICE  \n",
       "0     15.3  396.90   4.98   24.0  \n",
       "1     17.8  396.90   9.14   21.6  \n",
       "2     17.8  392.83   4.03   34.7  \n",
       "3     18.7  394.63   2.94   33.4  \n",
       "4     18.7  396.90   5.33   36.2  "
      ]
     },
     "execution_count": 8,
     "metadata": {},
     "output_type": "execute_result"
    }
   ],
   "source": [
    "#Adding the target column Price to the data frame\n",
    "boston['PRICE'] = housing_data.target\n",
    "boston.head()"
   ]
  },
  {
   "cell_type": "code",
   "execution_count": 9,
   "metadata": {},
   "outputs": [
    {
     "name": "stdout",
     "output_type": "stream",
     "text": [
      "<class 'pandas.core.frame.DataFrame'>\n",
      "RangeIndex: 506 entries, 0 to 505\n",
      "Data columns (total 14 columns):\n",
      " #   Column   Non-Null Count  Dtype  \n",
      "---  ------   --------------  -----  \n",
      " 0   CRIM     506 non-null    float64\n",
      " 1   ZN       506 non-null    float64\n",
      " 2   INDUS    506 non-null    float64\n",
      " 3   CHAS     506 non-null    float64\n",
      " 4   NOX      506 non-null    float64\n",
      " 5   RM       506 non-null    float64\n",
      " 6   AGE      506 non-null    float64\n",
      " 7   DIS      506 non-null    float64\n",
      " 8   RAD      506 non-null    float64\n",
      " 9   TAX      506 non-null    float64\n",
      " 10  PTRATIO  506 non-null    float64\n",
      " 11  B        506 non-null    float64\n",
      " 12  LSTAT    506 non-null    float64\n",
      " 13  PRICE    506 non-null    float64\n",
      "dtypes: float64(14)\n",
      "memory usage: 55.5 KB\n"
     ]
    }
   ],
   "source": [
    "# Let's see how the data structure looks like now\n",
    "boston.info()"
   ]
  },
  {
   "cell_type": "markdown",
   "metadata": {},
   "source": [
    "#### Task-3: Return the Summary Statistic of the numeric columns for dataframe boston by applying the method 'describe' of data frame. (5 points)"
   ]
  },
  {
   "cell_type": "code",
   "execution_count": 10,
   "metadata": {},
   "outputs": [
    {
     "data": {
      "text/html": [
       "<div>\n",
       "<style scoped>\n",
       "    .dataframe tbody tr th:only-of-type {\n",
       "        vertical-align: middle;\n",
       "    }\n",
       "\n",
       "    .dataframe tbody tr th {\n",
       "        vertical-align: top;\n",
       "    }\n",
       "\n",
       "    .dataframe thead th {\n",
       "        text-align: right;\n",
       "    }\n",
       "</style>\n",
       "<table border=\"1\" class=\"dataframe\">\n",
       "  <thead>\n",
       "    <tr style=\"text-align: right;\">\n",
       "      <th></th>\n",
       "      <th>CRIM</th>\n",
       "      <th>ZN</th>\n",
       "      <th>INDUS</th>\n",
       "      <th>CHAS</th>\n",
       "      <th>NOX</th>\n",
       "      <th>RM</th>\n",
       "      <th>AGE</th>\n",
       "      <th>DIS</th>\n",
       "      <th>RAD</th>\n",
       "      <th>TAX</th>\n",
       "      <th>PTRATIO</th>\n",
       "      <th>B</th>\n",
       "      <th>LSTAT</th>\n",
       "      <th>PRICE</th>\n",
       "    </tr>\n",
       "  </thead>\n",
       "  <tbody>\n",
       "    <tr>\n",
       "      <th>count</th>\n",
       "      <td>506.000000</td>\n",
       "      <td>506.000000</td>\n",
       "      <td>506.000000</td>\n",
       "      <td>506.000000</td>\n",
       "      <td>506.000000</td>\n",
       "      <td>506.000000</td>\n",
       "      <td>506.000000</td>\n",
       "      <td>506.000000</td>\n",
       "      <td>506.000000</td>\n",
       "      <td>506.000000</td>\n",
       "      <td>506.000000</td>\n",
       "      <td>506.000000</td>\n",
       "      <td>506.000000</td>\n",
       "      <td>506.000000</td>\n",
       "    </tr>\n",
       "    <tr>\n",
       "      <th>mean</th>\n",
       "      <td>3.613524</td>\n",
       "      <td>11.363636</td>\n",
       "      <td>11.136779</td>\n",
       "      <td>0.069170</td>\n",
       "      <td>0.554695</td>\n",
       "      <td>6.284634</td>\n",
       "      <td>68.574901</td>\n",
       "      <td>3.795043</td>\n",
       "      <td>9.549407</td>\n",
       "      <td>408.237154</td>\n",
       "      <td>18.455534</td>\n",
       "      <td>356.674032</td>\n",
       "      <td>12.653063</td>\n",
       "      <td>22.532806</td>\n",
       "    </tr>\n",
       "    <tr>\n",
       "      <th>std</th>\n",
       "      <td>8.601545</td>\n",
       "      <td>23.322453</td>\n",
       "      <td>6.860353</td>\n",
       "      <td>0.253994</td>\n",
       "      <td>0.115878</td>\n",
       "      <td>0.702617</td>\n",
       "      <td>28.148861</td>\n",
       "      <td>2.105710</td>\n",
       "      <td>8.707259</td>\n",
       "      <td>168.537116</td>\n",
       "      <td>2.164946</td>\n",
       "      <td>91.294864</td>\n",
       "      <td>7.141062</td>\n",
       "      <td>9.197104</td>\n",
       "    </tr>\n",
       "    <tr>\n",
       "      <th>min</th>\n",
       "      <td>0.006320</td>\n",
       "      <td>0.000000</td>\n",
       "      <td>0.460000</td>\n",
       "      <td>0.000000</td>\n",
       "      <td>0.385000</td>\n",
       "      <td>3.561000</td>\n",
       "      <td>2.900000</td>\n",
       "      <td>1.129600</td>\n",
       "      <td>1.000000</td>\n",
       "      <td>187.000000</td>\n",
       "      <td>12.600000</td>\n",
       "      <td>0.320000</td>\n",
       "      <td>1.730000</td>\n",
       "      <td>5.000000</td>\n",
       "    </tr>\n",
       "    <tr>\n",
       "      <th>25%</th>\n",
       "      <td>0.082045</td>\n",
       "      <td>0.000000</td>\n",
       "      <td>5.190000</td>\n",
       "      <td>0.000000</td>\n",
       "      <td>0.449000</td>\n",
       "      <td>5.885500</td>\n",
       "      <td>45.025000</td>\n",
       "      <td>2.100175</td>\n",
       "      <td>4.000000</td>\n",
       "      <td>279.000000</td>\n",
       "      <td>17.400000</td>\n",
       "      <td>375.377500</td>\n",
       "      <td>6.950000</td>\n",
       "      <td>17.025000</td>\n",
       "    </tr>\n",
       "    <tr>\n",
       "      <th>50%</th>\n",
       "      <td>0.256510</td>\n",
       "      <td>0.000000</td>\n",
       "      <td>9.690000</td>\n",
       "      <td>0.000000</td>\n",
       "      <td>0.538000</td>\n",
       "      <td>6.208500</td>\n",
       "      <td>77.500000</td>\n",
       "      <td>3.207450</td>\n",
       "      <td>5.000000</td>\n",
       "      <td>330.000000</td>\n",
       "      <td>19.050000</td>\n",
       "      <td>391.440000</td>\n",
       "      <td>11.360000</td>\n",
       "      <td>21.200000</td>\n",
       "    </tr>\n",
       "    <tr>\n",
       "      <th>75%</th>\n",
       "      <td>3.677083</td>\n",
       "      <td>12.500000</td>\n",
       "      <td>18.100000</td>\n",
       "      <td>0.000000</td>\n",
       "      <td>0.624000</td>\n",
       "      <td>6.623500</td>\n",
       "      <td>94.075000</td>\n",
       "      <td>5.188425</td>\n",
       "      <td>24.000000</td>\n",
       "      <td>666.000000</td>\n",
       "      <td>20.200000</td>\n",
       "      <td>396.225000</td>\n",
       "      <td>16.955000</td>\n",
       "      <td>25.000000</td>\n",
       "    </tr>\n",
       "    <tr>\n",
       "      <th>max</th>\n",
       "      <td>88.976200</td>\n",
       "      <td>100.000000</td>\n",
       "      <td>27.740000</td>\n",
       "      <td>1.000000</td>\n",
       "      <td>0.871000</td>\n",
       "      <td>8.780000</td>\n",
       "      <td>100.000000</td>\n",
       "      <td>12.126500</td>\n",
       "      <td>24.000000</td>\n",
       "      <td>711.000000</td>\n",
       "      <td>22.000000</td>\n",
       "      <td>396.900000</td>\n",
       "      <td>37.970000</td>\n",
       "      <td>50.000000</td>\n",
       "    </tr>\n",
       "  </tbody>\n",
       "</table>\n",
       "</div>"
      ],
      "text/plain": [
       "             CRIM          ZN       INDUS        CHAS         NOX          RM  \\\n",
       "count  506.000000  506.000000  506.000000  506.000000  506.000000  506.000000   \n",
       "mean     3.613524   11.363636   11.136779    0.069170    0.554695    6.284634   \n",
       "std      8.601545   23.322453    6.860353    0.253994    0.115878    0.702617   \n",
       "min      0.006320    0.000000    0.460000    0.000000    0.385000    3.561000   \n",
       "25%      0.082045    0.000000    5.190000    0.000000    0.449000    5.885500   \n",
       "50%      0.256510    0.000000    9.690000    0.000000    0.538000    6.208500   \n",
       "75%      3.677083   12.500000   18.100000    0.000000    0.624000    6.623500   \n",
       "max     88.976200  100.000000   27.740000    1.000000    0.871000    8.780000   \n",
       "\n",
       "              AGE         DIS         RAD         TAX     PTRATIO           B  \\\n",
       "count  506.000000  506.000000  506.000000  506.000000  506.000000  506.000000   \n",
       "mean    68.574901    3.795043    9.549407  408.237154   18.455534  356.674032   \n",
       "std     28.148861    2.105710    8.707259  168.537116    2.164946   91.294864   \n",
       "min      2.900000    1.129600    1.000000  187.000000   12.600000    0.320000   \n",
       "25%     45.025000    2.100175    4.000000  279.000000   17.400000  375.377500   \n",
       "50%     77.500000    3.207450    5.000000  330.000000   19.050000  391.440000   \n",
       "75%     94.075000    5.188425   24.000000  666.000000   20.200000  396.225000   \n",
       "max    100.000000   12.126500   24.000000  711.000000   22.000000  396.900000   \n",
       "\n",
       "            LSTAT       PRICE  \n",
       "count  506.000000  506.000000  \n",
       "mean    12.653063   22.532806  \n",
       "std      7.141062    9.197104  \n",
       "min      1.730000    5.000000  \n",
       "25%      6.950000   17.025000  \n",
       "50%     11.360000   21.200000  \n",
       "75%     16.955000   25.000000  \n",
       "max     37.970000   50.000000  "
      ]
     },
     "execution_count": 10,
     "metadata": {},
     "output_type": "execute_result"
    }
   ],
   "source": [
    "boston.describe()"
   ]
  },
  {
   "cell_type": "markdown",
   "metadata": {},
   "source": [
    "#### Before going to machine learning algorithms, we should understand the data a  bit more."
   ]
  },
  {
   "cell_type": "code",
   "execution_count": 11,
   "metadata": {},
   "outputs": [
    {
     "data": {
      "text/plain": [
       "<AxesSubplot:>"
      ]
     },
     "execution_count": 11,
     "metadata": {},
     "output_type": "execute_result"
    },
    {
     "data": {
      "image/png": "[encoded data removed]",
      "text/plain": [
       "<Figure size 432x288 with 2 Axes>"
      ]
     },
     "metadata": {
      "needs_background": "light"
     },
     "output_type": "display_data"
    }
   ],
   "source": [
    "# Correlation between Different features\n",
    "sns.heatmap(boston.corr())"
   ]
  },
  {
   "cell_type": "code",
   "execution_count": 12,
   "metadata": {},
   "outputs": [
    {
     "data": {
      "text/plain": [
       "<seaborn.axisgrid.FacetGrid at 0x7f7f0d307090>"
      ]
     },
     "execution_count": 12,
     "metadata": {},
     "output_type": "execute_result"
    },
    {
     "data": {
      "image/png": "[encoded data removed]",
      "text/plain": [
       "<Figure size 360x360 with 1 Axes>"
      ]
     },
     "metadata": {
      "needs_background": "light"
     },
     "output_type": "display_data"
    }
   ],
   "source": [
    "# Distributing of PRICE Column\n",
    "sns.displot(boston['PRICE'])"
   ]
  },
  {
   "cell_type": "markdown",
   "metadata": {},
   "source": [
    "#### Task-4: try yourself to distribute two other columns (e.g., number of rooms, nitric oxides concentration) (10 points)"
   ]
  },
  {
   "cell_type": "code",
   "execution_count": 13,
   "metadata": {},
   "outputs": [
    {
     "data": {
      "text/plain": [
       "<seaborn.axisgrid.FacetGrid at 0x7f7f0d1e78d0>"
      ]
     },
     "execution_count": 13,
     "metadata": {},
     "output_type": "execute_result"
    },
    {
     "data": {
      "image/png": "[encoded data removed]",
      "text/plain": [
       "<Figure size 360x360 with 1 Axes>"
      ]
     },
     "metadata": {
      "needs_background": "light"
     },
     "output_type": "display_data"
    }
   ],
   "source": [
    "sns.displot(boston['RM'])"
   ]
  },
  {
   "cell_type": "code",
   "execution_count": 14,
   "metadata": {},
   "outputs": [
    {
     "data": {
      "text/plain": [
       "<seaborn.axisgrid.FacetGrid at 0x7f7f0d119690>"
      ]
     },
     "execution_count": 14,
     "metadata": {},
     "output_type": "execute_result"
    },
    {
     "data": {
      "image/png": "[encoded data removed]",
      "text/plain": [
       "<Figure size 360x360 with 1 Axes>"
      ]
     },
     "metadata": {
      "needs_background": "light"
     },
     "output_type": "display_data"
    }
   ],
   "source": [
    "sns.displot(boston['NOX'])"
   ]
  },
  {
   "cell_type": "markdown",
   "metadata": {},
   "source": [
    "#### Now, let's try machine learning regression models. "
   ]
  },
  {
   "cell_type": "markdown",
   "metadata": {},
   "source": [
    "## Algorithm1: Linear Regression"
   ]
  },
  {
   "cell_type": "code",
   "execution_count": 15,
   "metadata": {},
   "outputs": [],
   "source": [
    "# Creating Predictor variable 'X' and Target Variable 'y'\n",
    "\n",
    "# X contains all the features except for the target value Price\n",
    "X = boston.drop('PRICE', axis = 1)\n",
    "y = boston['PRICE']"
   ]
  },
  {
   "cell_type": "code",
   "execution_count": 16,
   "metadata": {},
   "outputs": [],
   "source": [
    "from sklearn.model_selection import train_test_split\n",
    "from sklearn.linear_model import LinearRegression"
   ]
  },
  {
   "cell_type": "markdown",
   "metadata": {},
   "source": [
    "#### Task-5: complete the following line of code which splits the data into training and test set: X_train contains 70% of total dataset, X_test contains 30% (10 points)"
   ]
  },
  {
   "cell_type": "code",
   "execution_count": 17,
   "metadata": {},
   "outputs": [
    {
     "name": "stdout",
     "output_type": "stream",
     "text": [
      "(354, 13)\n",
      "(152, 13)\n"
     ]
    }
   ],
   "source": [
    "X_train, X_test, y_train, y_test = train_test_split(X, y, train_size=.7)\n",
    "\n",
    "# X_train contains 70% of total dataset\n",
    "print(X_train.shape)\n",
    "# X_test contains 30% of total dataset\n",
    "print(X_test.shape)"
   ]
  },
  {
   "cell_type": "code",
   "execution_count": 18,
   "metadata": {},
   "outputs": [],
   "source": [
    "lr = LinearRegression()"
   ]
  },
  {
   "cell_type": "markdown",
   "metadata": {},
   "source": [
    "#### Task-6: fit the training dataset into linear regression model. (7.5 points)"
   ]
  },
  {
   "cell_type": "code",
   "execution_count": 19,
   "metadata": {},
   "outputs": [
    {
     "data": {
      "text/plain": [
       "LinearRegression()"
      ]
     },
     "execution_count": 19,
     "metadata": {},
     "output_type": "execute_result"
    }
   ],
   "source": [
    "#Train/fit the model to training data\n",
    "lr.fit(X_train, y_train)"
   ]
  },
  {
   "cell_type": "code",
   "execution_count": 20,
   "metadata": {},
   "outputs": [
    {
     "name": "stdout",
     "output_type": "stream",
     "text": [
      "43.93827728692847\n"
     ]
    },
    {
     "data": {
      "text/html": [
       "<div>\n",
       "<style scoped>\n",
       "    .dataframe tbody tr th:only-of-type {\n",
       "        vertical-align: middle;\n",
       "    }\n",
       "\n",
       "    .dataframe tbody tr th {\n",
       "        vertical-align: top;\n",
       "    }\n",
       "\n",
       "    .dataframe thead th {\n",
       "        text-align: right;\n",
       "    }\n",
       "</style>\n",
       "<table border=\"1\" class=\"dataframe\">\n",
       "  <thead>\n",
       "    <tr style=\"text-align: right;\">\n",
       "      <th></th>\n",
       "      <th>Coefficient</th>\n",
       "    </tr>\n",
       "  </thead>\n",
       "  <tbody>\n",
       "    <tr>\n",
       "      <th>CRIM</th>\n",
       "      <td>-0.140653</td>\n",
       "    </tr>\n",
       "    <tr>\n",
       "      <th>ZN</th>\n",
       "      <td>0.054882</td>\n",
       "    </tr>\n",
       "    <tr>\n",
       "      <th>INDUS</th>\n",
       "      <td>0.018309</td>\n",
       "    </tr>\n",
       "    <tr>\n",
       "      <th>CHAS</th>\n",
       "      <td>3.431664</td>\n",
       "    </tr>\n",
       "    <tr>\n",
       "      <th>NOX</th>\n",
       "      <td>-20.869682</td>\n",
       "    </tr>\n",
       "    <tr>\n",
       "      <th>RM</th>\n",
       "      <td>2.806862</td>\n",
       "    </tr>\n",
       "    <tr>\n",
       "      <th>AGE</th>\n",
       "      <td>0.028180</td>\n",
       "    </tr>\n",
       "    <tr>\n",
       "      <th>DIS</th>\n",
       "      <td>-1.544571</td>\n",
       "    </tr>\n",
       "    <tr>\n",
       "      <th>RAD</th>\n",
       "      <td>0.327976</td>\n",
       "    </tr>\n",
       "    <tr>\n",
       "      <th>TAX</th>\n",
       "      <td>-0.009712</td>\n",
       "    </tr>\n",
       "    <tr>\n",
       "      <th>PTRATIO</th>\n",
       "      <td>-0.977466</td>\n",
       "    </tr>\n",
       "    <tr>\n",
       "      <th>B</th>\n",
       "      <td>0.009514</td>\n",
       "    </tr>\n",
       "    <tr>\n",
       "      <th>LSTAT</th>\n",
       "      <td>-0.671789</td>\n",
       "    </tr>\n",
       "  </tbody>\n",
       "</table>\n",
       "</div>"
      ],
      "text/plain": [
       "         Coefficient\n",
       "CRIM       -0.140653\n",
       "ZN          0.054882\n",
       "INDUS       0.018309\n",
       "CHAS        3.431664\n",
       "NOX       -20.869682\n",
       "RM          2.806862\n",
       "AGE         0.028180\n",
       "DIS        -1.544571\n",
       "RAD         0.327976\n",
       "TAX        -0.009712\n",
       "PTRATIO    -0.977466\n",
       "B           0.009514\n",
       "LSTAT      -0.671789"
      ]
     },
     "execution_count": 20,
     "metadata": {},
     "output_type": "execute_result"
    }
   ],
   "source": [
    "# print the intercept\n",
    "print(lr.intercept_)\n",
    "\n",
    "#Coefficients\n",
    "coeff_df = pd.DataFrame(lr.coef_,X.columns,columns=['Coefficient'])\n",
    "coeff_df"
   ]
  },
  {
   "cell_type": "markdown",
   "metadata": {},
   "source": [
    "#### Task-7: complete the following line of codes which use the trained model above to predict the house prices on test dataset, and output the prediction result as \"pred\". (5 points)"
   ]
  },
  {
   "cell_type": "code",
   "execution_count": 21,
   "metadata": {},
   "outputs": [],
   "source": [
    "pred = lr.predict(X_test)"
   ]
  },
  {
   "cell_type": "code",
   "execution_count": 22,
   "metadata": {},
   "outputs": [
    {
     "data": {
      "text/plain": [
       "Text(0, 0.5, 'Predicted prices')"
      ]
     },
     "execution_count": 22,
     "metadata": {},
     "output_type": "execute_result"
    },
    {
     "data": {
      "image/png": "[encoded data removed]",
      "text/plain": [
       "<Figure size 432x288 with 1 Axes>"
      ]
     },
     "metadata": {
      "needs_background": "light"
     },
     "output_type": "display_data"
    }
   ],
   "source": [
    "plt.scatter(y_test,pred)\n",
    "plt.xlabel(\"Prices\")\n",
    "plt.ylabel(\"Predicted prices\")"
   ]
  },
  {
   "cell_type": "code",
   "execution_count": 23,
   "metadata": {},
   "outputs": [
    {
     "name": "stdout",
     "output_type": "stream",
     "text": [
      "MAE: 3.408310785441626\n",
      "MSE: 22.14514368830514\n",
      "RMSE: 4.705862693311944\n"
     ]
    }
   ],
   "source": [
    "# evaluating and outputing the results using different evaluation metrics (i.e., MAE, MSE, RMSE).\n",
    "from sklearn import metrics\n",
    "print('MAE:', metrics.mean_absolute_error(y_test, pred))\n",
    "print('MSE:', metrics.mean_squared_error(y_test, pred))\n",
    "print('RMSE:', np.sqrt(metrics.mean_squared_error(y_test, pred)))"
   ]
  },
  {
   "cell_type": "markdown",
   "metadata": {},
   "source": [
    "#### Task-8: Try Ridge or Lasso regressions  (set alpha=1.0) in the following steps. (20 points)"
   ]
  },
  {
   "cell_type": "code",
   "execution_count": 24,
   "metadata": {},
   "outputs": [
    {
     "name": "stdout",
     "output_type": "stream",
     "text": [
      "RMSE: 4.69598728655949\n",
      "MAE: 3.365281120866957\n",
      "MSE: 22.05229659552836\n"
     ]
    }
   ],
   "source": [
    "from sklearn.linear_model import Ridge\n",
    "from sklearn.linear_model import Lasso\n",
    "from sklearn.metrics import mean_squared_error\n",
    "\n",
    "#step-1: Create a ridge or lasso regression model\n",
    "ridge = Ridge(alpha = 1)\n",
    "\n",
    "#step-2: Fit to our training data (i.e., X_train and y_train)\n",
    "ridge.fit(X_train, y_train)\n",
    "\n",
    "#step-3: Apply the model too predict on our testing data (i.e., X_test)\n",
    "z = ridge.predict(X_test)\n",
    "\n",
    "#step-4: Print prediction performance RMSE\n",
    "print('RMSE:', np.sqrt(metrics.mean_squared_error(y_test, z)))\n",
    "print('MAE:', metrics.mean_absolute_error(y_test, z))\n",
    "print('MSE:', metrics.mean_squared_error(y_test, z))\n"
   ]
  },
  {
   "cell_type": "code",
   "execution_count": 25,
   "metadata": {},
   "outputs": [
    {
     "name": "stdout",
     "output_type": "stream",
     "text": [
      "RMSE: 5.540285096183895\n",
      "MAE: 3.9041161726900206\n",
      "MSE: 30.6947589469974\n"
     ]
    }
   ],
   "source": [
    "#step-1: Create a ridge or lasso regression model\n",
    "lasso = Lasso(alpha = 1)\n",
    "\n",
    "#step-2: Fit to our training data (i.e., X_train and y_train)\n",
    "lasso.fit(X_train, y_train)\n",
    "\n",
    "#step-3: Apply the model too predict on our testing data (i.e., X_test)\n",
    "z = lasso.predict(X_test)\n",
    "\n",
    "#step-4: Print prediction performance RMSE\n",
    "print('RMSE:', np.sqrt(metrics.mean_squared_error(y_test, z)))\n",
    "print('MAE:', metrics.mean_absolute_error(y_test, z))\n",
    "print('MSE:', metrics.mean_squared_error(y_test, z))\n",
    "\n"
   ]
  },
  {
   "cell_type": "markdown",
   "metadata": {},
   "source": [
    "#### Question: Is Ridge regression and Lasso regression linear regression?  What is differnece between Ridge and Lasso regressions? (7.5 points)"
   ]
  },
  {
   "cell_type": "markdown",
   "metadata": {},
   "source": [
    "Ridge Regression and Lasso Regression are variants of Linear Regression. The differences are based on how they treat penalization during the regression. Another difference is that they should be used in different scenarios as dictated by the input data. There are datasets which would be more appropriate for each of these- linear, ridge and lasso. Another way to think of Ridge and Lasso are by introducing L1 or L2 penalties. These are introduced with the goal of preventing overfitting during the training of a model."
   ]
  },
  {
   "cell_type": "markdown",
   "metadata": {},
   "source": [
    "## Algorithm2: Neural Networks - Regression"
   ]
  },
  {
   "cell_type": "code",
   "execution_count": 26,
   "metadata": {},
   "outputs": [],
   "source": [
    "X = boston.drop('PRICE', axis = 1)\n",
    "Y = boston['PRICE']"
   ]
  },
  {
   "cell_type": "code",
   "execution_count": 27,
   "metadata": {},
   "outputs": [],
   "source": [
    "from sklearn import preprocessing"
   ]
  },
  {
   "cell_type": "markdown",
   "metadata": {},
   "source": [
    "#### Task-9: complete the following codes which apply the preprocessing method MinMaxScaler to scale the given training data X  and assign the scaled training data to variable X_scale. (10 points)"
   ]
  },
  {
   "cell_type": "code",
   "execution_count": 28,
   "metadata": {},
   "outputs": [],
   "source": [
    "from sklearn.preprocessing import MinMaxScaler\n",
    "min_max_scaler = MinMaxScaler()\n",
    "X_scale = min_max_scaler.fit_transform(X)"
   ]
  },
  {
   "cell_type": "markdown",
   "metadata": {},
   "source": [
    "#### Task-10: complete the following codes which first split the training data into training and validation_test sets (e.g., 70/30), then split the validation_test set into validation and test (e.g.,50/50). (10 points)"
   ]
  },
  {
   "cell_type": "code",
   "execution_count": 29,
   "metadata": {},
   "outputs": [
    {
     "name": "stdout",
     "output_type": "stream",
     "text": [
      "(354, 13) (76, 13) (76, 13) (354,) (76,) (76,)\n"
     ]
    }
   ],
   "source": [
    "from sklearn.model_selection import train_test_split\n",
    "X_train, X_val_and_test, Y_train, Y_val_and_test =  train_test_split(X_scale, y, train_size=.7)\n",
    "X_val, X_test, Y_val, Y_test =  train_test_split(X_val_and_test, Y_val_and_test, train_size=.5)\n",
    "print(X_train.shape, X_val.shape, X_test.shape, Y_train.shape, Y_val.shape, Y_test.shape)"
   ]
  },
  {
   "cell_type": "code",
   "execution_count": 30,
   "metadata": {},
   "outputs": [],
   "source": [
    "# import libraries of tensorflow to build neurral networks.\n",
    "import tensorflow as tf\n",
    "from tensorflow.keras.models import Sequential\n",
    "from tensorflow.keras.layers import Dense"
   ]
  },
  {
   "cell_type": "markdown",
   "metadata": {},
   "source": [
    "#### Task-11: complete the following codes which build a two layers neural network model by using Sequential. (10 points)\n",
    "#### FYI: https://www.tensorflow.org/api_docs/python/tf/keras/Sequential"
   ]
  },
  {
   "cell_type": "code",
   "execution_count": 31,
   "metadata": {},
   "outputs": [],
   "source": [
    "# Build model\n",
    "model = Sequential([\n",
    "    Dense(20,activation=\"relu\", name=\"layer1\"),\n",
    "    Dense(1, name=\"output\"),\n",
    "])"
   ]
  },
  {
   "cell_type": "markdown",
   "metadata": {},
   "source": [
    "#### Task-12: compile the model (use mean_squared_error as loss function, and apply metrics=['mse', 'mae', 'mape'])  (7.5 points)"
   ]
  },
  {
   "cell_type": "code",
   "execution_count": 32,
   "metadata": {},
   "outputs": [],
   "source": [
    "# Compile model\n",
    "model.compile(optimizer='sgd', loss='mse', metrics=[\"mse\",\"mae\",\"mape\"])\n"
   ]
  },
  {
   "cell_type": "markdown",
   "metadata": {},
   "source": [
    "#### Task-13: compelte the following codes which train/fit the model using the function of fit  (both training data and valiation data will be used)  (7.5 points)"
   ]
  },
  {
   "cell_type": "code",
   "execution_count": 33,
   "metadata": {},
   "outputs": [
    {
     "name": "stdout",
     "output_type": "stream",
     "text": [
      "Epoch 1/20\n",
      "12/12 [==============================] - 1s 49ms/step - loss: 331.8539 - mse: 331.8539 - mae: 14.6128 - mape: 64.9792 - val_loss: 49.3930 - val_mse: 49.3930 - val_mae: 5.0866 - val_mape: 24.0076\n",
      "Epoch 2/20\n",
      "12/12 [==============================] - 0s 6ms/step - loss: 97.4525 - mse: 97.4525 - mae: 7.2706 - mape: 35.3679 - val_loss: 26.1437 - val_mse: 26.1437 - val_mae: 3.7405 - val_mape: 18.7852\n",
      "Epoch 3/20\n",
      "12/12 [==============================] - 0s 6ms/step - loss: 53.8340 - mse: 53.8340 - mae: 5.2585 - mape: 24.3307 - val_loss: 35.6007 - val_mse: 35.6007 - val_mae: 4.2922 - val_mape: 19.4763\n",
      "Epoch 4/20\n",
      "12/12 [==============================] - 0s 6ms/step - loss: 90.2578 - mse: 90.2578 - mae: 7.1551 - mape: 31.5914 - val_loss: 75.4224 - val_mse: 75.4224 - val_mae: 8.0254 - val_mape: 42.2549\n",
      "Epoch 5/20\n",
      "12/12 [==============================] - 0s 6ms/step - loss: 59.2983 - mse: 59.2983 - mae: 5.8287 - mape: 27.1077 - val_loss: 48.7260 - val_mse: 48.7260 - val_mae: 6.2242 - val_mape: 32.4608\n",
      "Epoch 6/20\n",
      "12/12 [==============================] - 0s 6ms/step - loss: 55.2798 - mse: 55.2798 - mae: 5.8893 - mape: 27.5934 - val_loss: 21.1889 - val_mse: 21.1889 - val_mae: 3.1949 - val_mape: 15.3833\n",
      "Epoch 7/20\n",
      "12/12 [==============================] - 0s 6ms/step - loss: 50.9987 - mse: 50.9987 - mae: 5.4361 - mape: 26.0122 - val_loss: 331.4606 - val_mse: 331.4606 - val_mae: 17.5702 - val_mape: 90.9992\n",
      "Epoch 8/20\n",
      "12/12 [==============================] - 0s 6ms/step - loss: 180.6051 - mse: 180.6051 - mae: 11.1277 - mape: 54.6844 - val_loss: 308.2659 - val_mse: 308.2659 - val_mae: 16.9475 - val_mape: 88.2356\n",
      "Epoch 9/20\n",
      "12/12 [==============================] - 0s 6ms/step - loss: 123.3819 - mse: 123.3819 - mae: 8.8201 - mape: 43.0575 - val_loss: 29.5364 - val_mse: 29.5364 - val_mae: 4.3338 - val_mape: 20.4133\n",
      "Epoch 10/20\n",
      "12/12 [==============================] - 0s 6ms/step - loss: 75.5154 - mse: 75.5154 - mae: 6.4365 - mape: 28.5240 - val_loss: 86.1931 - val_mse: 86.1931 - val_mae: 8.5180 - val_mape: 46.5099\n",
      "Epoch 11/20\n",
      "12/12 [==============================] - 0s 6ms/step - loss: 63.2296 - mse: 63.2296 - mae: 6.3286 - mape: 31.9652 - val_loss: 32.8321 - val_mse: 32.8321 - val_mae: 4.5840 - val_mape: 22.7471\n",
      "Epoch 12/20\n",
      "12/12 [==============================] - 0s 6ms/step - loss: 48.3083 - mse: 48.3083 - mae: 4.9188 - mape: 22.3742 - val_loss: 243.7269 - val_mse: 243.7269 - val_mae: 14.9228 - val_mape: 76.7908\n",
      "Epoch 13/20\n",
      "12/12 [==============================] - 0s 6ms/step - loss: 140.5104 - mse: 140.5104 - mae: 8.8010 - mape: 45.4095 - val_loss: 38.7914 - val_mse: 38.7914 - val_mae: 5.2720 - val_mape: 24.3156\n",
      "Epoch 14/20\n",
      "12/12 [==============================] - 0s 7ms/step - loss: 47.6376 - mse: 47.6376 - mae: 4.9257 - mape: 22.8156 - val_loss: 87.5335 - val_mse: 87.5335 - val_mae: 8.6272 - val_mape: 45.3008\n",
      "Epoch 15/20\n",
      "12/12 [==============================] - 0s 7ms/step - loss: 70.6857 - mse: 70.6857 - mae: 6.3538 - mape: 31.1243 - val_loss: 31.8767 - val_mse: 31.8767 - val_mae: 4.6277 - val_mape: 21.8728\n",
      "Epoch 16/20\n",
      "12/12 [==============================] - 0s 7ms/step - loss: 43.8683 - mse: 43.8683 - mae: 4.6720 - mape: 21.4980 - val_loss: 53.9735 - val_mse: 53.9735 - val_mae: 6.4346 - val_mape: 32.3956\n",
      "Epoch 17/20\n",
      "12/12 [==============================] - 0s 6ms/step - loss: 46.5453 - mse: 46.5453 - mae: 5.1122 - mape: 25.6683 - val_loss: 34.5202 - val_mse: 34.5202 - val_mae: 4.8235 - val_mape: 24.2656\n",
      "Epoch 18/20\n",
      "12/12 [==============================] - 0s 6ms/step - loss: 28.9614 - mse: 28.9614 - mae: 3.8949 - mape: 18.6511 - val_loss: 18.2562 - val_mse: 18.2562 - val_mae: 3.4629 - val_mape: 18.7021\n",
      "Epoch 19/20\n",
      "12/12 [==============================] - 0s 7ms/step - loss: 24.5273 - mse: 24.5273 - mae: 3.5111 - mape: 17.7894 - val_loss: 19.1555 - val_mse: 19.1555 - val_mae: 3.5799 - val_mape: 19.3991\n",
      "Epoch 20/20\n",
      "12/12 [==============================] - 0s 6ms/step - loss: 21.6808 - mse: 21.6808 - mae: 3.3497 - mape: 17.3287 - val_loss: 80.7536 - val_mse: 80.7536 - val_mae: 8.3317 - val_mape: 40.9180\n"
     ]
    }
   ],
   "source": [
    "hist =  model.fit(X_train, Y_train, epochs=20, validation_data = (X_val, Y_val))\n"
   ]
  },
  {
   "cell_type": "code",
   "execution_count": 34,
   "metadata": {},
   "outputs": [
    {
     "data": {
      "image/png": "[encoded data removed]",
      "text/plain": [
       "<Figure size 432x288 with 1 Axes>"
      ]
     },
     "metadata": {
      "needs_background": "light"
     },
     "output_type": "display_data"
    }
   ],
   "source": [
    "plt.plot(hist.history['mse'])\n",
    "plt.plot(hist.history['val_mse'])\n",
    "plt.title('Model Performance')\n",
    "plt.ylabel('MSE')\n",
    "plt.xlabel('Epoch')\n",
    "plt.legend(['Train', 'Val'], loc='upper right')\n",
    "plt.show()"
   ]
  },
  {
   "cell_type": "markdown",
   "metadata": {},
   "source": [
    "#### Task-14: evaluate the model on X_test and Y_test by applying the method 'evaluate'  (5 points)"
   ]
  },
  {
   "cell_type": "code",
   "execution_count": 35,
   "metadata": {},
   "outputs": [
    {
     "name": "stdout",
     "output_type": "stream",
     "text": [
      "3/3 [==============================] - 0s 2ms/step - loss: 96.0818 - mse: 96.0818 - mae: 8.8316 - mape: 40.7104\n",
      "{'loss': 96.08180236816406, 'mse': 96.08180236816406, 'mae': 8.831637382507324, 'mape': 40.71036148071289}\n"
     ]
    }
   ],
   "source": [
    "# Evaluation\n",
    "print(dict(zip(model.metrics_names, model.evaluate(X_test, Y_test))))"
   ]
  },
  {
   "cell_type": "markdown",
   "metadata": {},
   "source": [
    "#### NON-mandatory task: if you have time/interest, you can visualize the prediction result and labels using scatter."
   ]
  },
  {
   "cell_type": "code",
   "execution_count": 36,
   "metadata": {},
   "outputs": [
    {
     "data": {
      "image/png": "[encoded data removed]",
      "text/plain": [
       "<Figure size 432x288 with 1 Axes>"
      ]
     },
     "metadata": {
      "needs_background": "light"
     },
     "output_type": "display_data"
    }
   ],
   "source": [
    "plt.scatter(Y_test,model.predict(X_test))\n",
    "plt.title('Model Performance')\n",
    "plt.ylabel('Predicted Prices')\n",
    "plt.xlabel('Prices')\n",
    "plt.show()"
   ]
  },
  {
   "cell_type": "markdown",
   "metadata": {},
   "source": [
    "#### Task-15:  complete the following codes to build the second neural network model with one more layer, compile, train, and evaluate the model.  (15 points)"
   ]
  },
  {
   "cell_type": "code",
   "execution_count": 37,
   "metadata": {},
   "outputs": [
    {
     "name": "stdout",
     "output_type": "stream",
     "text": [
      "Epoch 1/50\n",
      "12/12 [==============================] - 1s 37ms/step - loss: 499.0663 - mse: 499.0663 - mae: 20.0720 - mape: 90.3523 - val_loss: 362.4994 - val_mse: 362.4994 - val_mae: 17.5610 - val_mape: 78.9401\n",
      "Epoch 2/50\n",
      "12/12 [==============================] - 0s 6ms/step - loss: 408.6703 - mse: 408.6703 - mae: 17.6379 - mape: 73.2796 - val_loss: 237.9890 - val_mse: 237.9890 - val_mae: 13.5873 - val_mape: 58.4191\n",
      "Epoch 3/50\n",
      "12/12 [==============================] - 0s 6ms/step - loss: 302.7589 - mse: 302.7589 - mae: 14.4324 - mape: 56.1627 - val_loss: 159.1038 - val_mse: 159.1038 - val_mae: 10.4787 - val_mape: 43.5155\n",
      "Epoch 4/50\n",
      "12/12 [==============================] - 0s 6ms/step - loss: 230.3968 - mse: 230.3968 - mae: 11.7451 - mape: 44.7132 - val_loss: 115.1324 - val_mse: 115.1324 - val_mae: 8.4977 - val_mape: 35.3121\n",
      "Epoch 5/50\n",
      "12/12 [==============================] - 0s 6ms/step - loss: 153.8496 - mse: 153.8496 - mae: 9.2674 - mape: 36.4980 - val_loss: 89.3311 - val_mse: 89.3311 - val_mae: 7.3229 - val_mape: 31.5429\n",
      "Epoch 6/50\n",
      "12/12 [==============================] - 0s 6ms/step - loss: 133.0525 - mse: 133.0525 - mae: 8.2809 - mape: 33.6633 - val_loss: 75.6931 - val_mse: 75.6931 - val_mae: 6.6419 - val_mape: 29.7829\n",
      "Epoch 7/50\n",
      "12/12 [==============================] - 0s 6ms/step - loss: 113.0589 - mse: 113.0589 - mae: 7.6478 - mape: 33.2637 - val_loss: 65.9428 - val_mse: 65.9428 - val_mae: 6.0679 - val_mape: 28.5105\n",
      "Epoch 8/50\n",
      "12/12 [==============================] - 0s 6ms/step - loss: 105.9193 - mse: 105.9193 - mae: 7.2154 - mape: 30.9769 - val_loss: 60.0313 - val_mse: 60.0313 - val_mae: 5.6364 - val_mape: 27.7121\n",
      "Epoch 9/50\n",
      "12/12 [==============================] - 0s 6ms/step - loss: 110.5011 - mse: 110.5011 - mae: 7.1214 - mape: 30.7116 - val_loss: 56.6124 - val_mse: 56.6124 - val_mae: 5.3543 - val_mape: 27.4664\n",
      "Epoch 10/50\n",
      "12/12 [==============================] - 0s 6ms/step - loss: 99.1772 - mse: 99.1772 - mae: 6.9189 - mape: 32.1918 - val_loss: 55.3630 - val_mse: 55.3630 - val_mae: 5.2610 - val_mape: 27.6342\n",
      "Epoch 11/50\n",
      "12/12 [==============================] - 0s 6ms/step - loss: 94.3499 - mse: 94.3499 - mae: 6.7980 - mape: 34.7173 - val_loss: 54.3821 - val_mse: 54.3821 - val_mae: 5.2047 - val_mape: 28.1660\n",
      "Epoch 12/50\n",
      "12/12 [==============================] - 0s 6ms/step - loss: 83.3457 - mse: 83.3457 - mae: 6.5379 - mape: 35.2602 - val_loss: 54.2044 - val_mse: 54.2044 - val_mae: 5.1990 - val_mape: 28.4271\n",
      "Epoch 13/50\n",
      "12/12 [==============================] - 0s 6ms/step - loss: 87.9890 - mse: 87.9890 - mae: 6.6611 - mape: 33.1538 - val_loss: 54.1146 - val_mse: 54.1146 - val_mae: 5.2128 - val_mape: 28.9712\n",
      "Epoch 14/50\n",
      "12/12 [==============================] - 0s 6ms/step - loss: 93.2291 - mse: 93.2291 - mae: 6.8465 - mape: 34.3289 - val_loss: 54.1272 - val_mse: 54.1272 - val_mae: 5.2183 - val_mape: 29.0901\n",
      "Epoch 15/50\n",
      "12/12 [==============================] - 0s 6ms/step - loss: 97.8308 - mse: 97.8308 - mae: 7.0631 - mape: 35.2175 - val_loss: 54.3030 - val_mse: 54.3030 - val_mae: 5.2471 - val_mape: 29.6416\n",
      "Epoch 16/50\n",
      "12/12 [==============================] - 0s 6ms/step - loss: 99.2775 - mse: 99.2775 - mae: 7.2073 - mape: 37.1700 - val_loss: 54.6885 - val_mse: 54.6885 - val_mae: 5.2974 - val_mape: 30.3029\n",
      "Epoch 17/50\n",
      "12/12 [==============================] - 0s 6ms/step - loss: 87.3309 - mse: 87.3309 - mae: 6.7439 - mape: 36.3462 - val_loss: 55.8653 - val_mse: 55.8653 - val_mae: 5.4452 - val_mape: 31.7286\n",
      "Epoch 18/50\n",
      "12/12 [==============================] - 0s 6ms/step - loss: 81.9566 - mse: 81.9566 - mae: 6.6994 - mape: 36.4523 - val_loss: 55.9761 - val_mse: 55.9761 - val_mae: 5.4571 - val_mape: 31.8376\n",
      "Epoch 19/50\n",
      "12/12 [==============================] - 0s 6ms/step - loss: 86.0472 - mse: 86.0472 - mae: 6.7253 - mape: 35.0268 - val_loss: 55.6934 - val_mse: 55.6934 - val_mae: 5.4259 - val_mape: 31.5523\n",
      "Epoch 20/50\n",
      "12/12 [==============================] - 0s 6ms/step - loss: 89.9462 - mse: 89.9462 - mae: 7.0843 - mape: 41.1310 - val_loss: 55.7888 - val_mse: 55.7888 - val_mae: 5.4367 - val_mape: 31.6512\n",
      "Epoch 21/50\n",
      "12/12 [==============================] - 0s 6ms/step - loss: 83.7437 - mse: 83.7437 - mae: 6.6813 - mape: 35.5702 - val_loss: 55.5176 - val_mse: 55.5176 - val_mae: 5.4050 - val_mape: 31.3617\n",
      "Epoch 22/50\n",
      "12/12 [==============================] - 0s 6ms/step - loss: 96.3946 - mse: 96.3946 - mae: 7.0876 - mape: 38.7535 - val_loss: 55.4845 - val_mse: 55.4845 - val_mae: 5.4010 - val_mape: 31.3246\n",
      "Epoch 23/50\n",
      "12/12 [==============================] - 0s 6ms/step - loss: 98.2146 - mse: 98.2146 - mae: 7.3098 - mape: 38.1544 - val_loss: 55.5508 - val_mse: 55.5508 - val_mae: 5.4091 - val_mape: 31.3986\n",
      "Epoch 24/50\n",
      "12/12 [==============================] - 0s 6ms/step - loss: 87.1787 - mse: 87.1787 - mae: 6.6701 - mape: 36.7460 - val_loss: 56.0662 - val_mse: 56.0662 - val_mae: 5.4665 - val_mape: 31.9239\n",
      "Epoch 25/50\n",
      "12/12 [==============================] - 0s 6ms/step - loss: 88.6758 - mse: 88.6758 - mae: 6.9649 - mape: 37.1338 - val_loss: 56.0079 - val_mse: 56.0079 - val_mae: 5.4604 - val_mape: 31.8683\n",
      "Epoch 26/50\n",
      "12/12 [==============================] - 0s 6ms/step - loss: 94.3522 - mse: 94.3522 - mae: 7.2521 - mape: 41.1745 - val_loss: 55.8587 - val_mse: 55.8587 - val_mae: 5.4444 - val_mape: 31.7220\n",
      "Epoch 27/50\n",
      "12/12 [==============================] - 0s 6ms/step - loss: 95.4444 - mse: 95.4444 - mae: 7.0823 - mape: 35.9609 - val_loss: 56.4004 - val_mse: 56.4004 - val_mae: 5.5026 - val_mape: 32.2402\n",
      "Epoch 28/50\n",
      "12/12 [==============================] - 0s 6ms/step - loss: 102.0625 - mse: 102.0625 - mae: 7.3659 - mape: 39.2183 - val_loss: 56.5583 - val_mse: 56.5583 - val_mae: 5.5201 - val_mape: 32.3878\n",
      "Epoch 29/50\n",
      "12/12 [==============================] - 0s 6ms/step - loss: 88.0762 - mse: 88.0762 - mae: 6.9201 - mape: 36.7291 - val_loss: 56.0239 - val_mse: 56.0239 - val_mae: 5.4621 - val_mape: 31.8837\n",
      "Epoch 30/50\n",
      "12/12 [==============================] - 0s 6ms/step - loss: 81.1266 - mse: 81.1266 - mae: 6.5835 - mape: 37.7818 - val_loss: 55.4591 - val_mse: 55.4591 - val_mae: 5.3978 - val_mape: 31.2957\n",
      "Epoch 31/50\n",
      "12/12 [==============================] - 0s 6ms/step - loss: 83.6698 - mse: 83.6698 - mae: 6.6086 - mape: 36.4787 - val_loss: 55.2755 - val_mse: 55.2755 - val_mae: 5.3749 - val_mape: 31.0822\n",
      "Epoch 32/50\n",
      "12/12 [==============================] - 0s 6ms/step - loss: 99.7383 - mse: 99.7383 - mae: 7.3625 - mape: 42.4907 - val_loss: 55.2225 - val_mse: 55.2225 - val_mae: 5.3684 - val_mape: 31.0193\n",
      "Epoch 33/50\n",
      "12/12 [==============================] - 0s 6ms/step - loss: 93.6115 - mse: 93.6115 - mae: 7.1393 - mape: 37.7912 - val_loss: 55.0901 - val_mse: 55.0901 - val_mae: 5.3513 - val_mape: 30.8552\n",
      "Epoch 34/50\n",
      "12/12 [==============================] - 0s 6ms/step - loss: 98.6637 - mse: 98.6637 - mae: 7.3176 - mape: 41.0594 - val_loss: 55.2459 - val_mse: 55.2459 - val_mae: 5.3713 - val_mape: 31.0472\n",
      "Epoch 35/50\n",
      "12/12 [==============================] - 0s 6ms/step - loss: 91.4897 - mse: 91.4897 - mae: 7.1190 - mape: 40.3818 - val_loss: 55.7556 - val_mse: 55.7556 - val_mae: 5.4330 - val_mape: 31.6171\n",
      "Epoch 36/50\n",
      "12/12 [==============================] - 0s 6ms/step - loss: 98.4149 - mse: 98.4149 - mae: 7.2843 - mape: 39.0949 - val_loss: 55.6886 - val_mse: 55.6886 - val_mae: 5.4253 - val_mape: 31.5472\n",
      "Epoch 37/50\n",
      "12/12 [==============================] - 0s 6ms/step - loss: 91.1015 - mse: 91.1015 - mae: 6.9317 - mape: 35.1959 - val_loss: 55.7844 - val_mse: 55.7844 - val_mae: 5.4362 - val_mape: 31.6467\n",
      "Epoch 38/50\n",
      "12/12 [==============================] - 0s 6ms/step - loss: 86.4225 - mse: 86.4225 - mae: 6.8855 - mape: 38.3321 - val_loss: 56.2615 - val_mse: 56.2615 - val_mae: 5.4877 - val_mape: 32.1110\n",
      "Epoch 39/50\n",
      "12/12 [==============================] - 0s 7ms/step - loss: 94.3952 - mse: 94.3952 - mae: 7.2500 - mape: 38.7536 - val_loss: 55.7440 - val_mse: 55.7440 - val_mae: 5.4317 - val_mape: 31.6051\n",
      "Epoch 40/50\n",
      "12/12 [==============================] - 0s 6ms/step - loss: 90.9327 - mse: 90.9327 - mae: 6.7091 - mape: 33.5586 - val_loss: 55.7812 - val_mse: 55.7812 - val_mae: 5.4358 - val_mape: 31.6434\n",
      "Epoch 41/50\n",
      "12/12 [==============================] - 0s 6ms/step - loss: 89.6219 - mse: 89.6219 - mae: 6.9322 - mape: 35.8540 - val_loss: 55.6889 - val_mse: 55.6889 - val_mae: 5.4254 - val_mape: 31.5476\n",
      "Epoch 42/50\n",
      "12/12 [==============================] - 0s 6ms/step - loss: 89.8135 - mse: 89.8135 - mae: 6.9267 - mape: 38.6849 - val_loss: 55.4378 - val_mse: 55.4378 - val_mae: 5.3952 - val_mape: 31.2713\n",
      "Epoch 43/50\n",
      "12/12 [==============================] - 0s 6ms/step - loss: 92.0120 - mse: 92.0120 - mae: 6.8869 - mape: 35.5861 - val_loss: 55.2956 - val_mse: 55.2956 - val_mae: 5.3773 - val_mape: 31.1056\n",
      "Epoch 44/50\n",
      "12/12 [==============================] - 0s 6ms/step - loss: 99.8944 - mse: 99.8944 - mae: 7.1950 - mape: 36.4663 - val_loss: 55.2759 - val_mse: 55.2759 - val_mae: 5.3750 - val_mape: 31.0827\n",
      "Epoch 45/50\n",
      "12/12 [==============================] - 0s 6ms/step - loss: 92.0641 - mse: 92.0641 - mae: 6.9542 - mape: 37.4165 - val_loss: 55.5701 - val_mse: 55.5701 - val_mae: 5.4114 - val_mape: 31.4199\n",
      "Epoch 46/50\n",
      "12/12 [==============================] - 0s 7ms/step - loss: 100.0557 - mse: 100.0557 - mae: 7.2816 - mape: 37.4568 - val_loss: 55.2355 - val_mse: 55.2355 - val_mae: 5.3700 - val_mape: 31.0349\n",
      "Epoch 47/50\n",
      "12/12 [==============================] - 0s 7ms/step - loss: 80.8928 - mse: 80.8928 - mae: 6.3983 - mape: 34.2935 - val_loss: 55.3849 - val_mse: 55.3849 - val_mae: 5.3884 - val_mape: 31.2099\n",
      "Epoch 48/50\n",
      "12/12 [==============================] - 0s 7ms/step - loss: 96.3147 - mse: 96.3147 - mae: 7.1888 - mape: 37.2262 - val_loss: 55.3018 - val_mse: 55.3018 - val_mae: 5.3781 - val_mape: 31.1129\n",
      "Epoch 49/50\n",
      "12/12 [==============================] - 0s 7ms/step - loss: 92.6223 - mse: 92.6223 - mae: 6.9520 - mape: 36.4478 - val_loss: 55.6276 - val_mse: 55.6276 - val_mae: 5.4182 - val_mape: 31.4823\n",
      "Epoch 50/50\n",
      "12/12 [==============================] - 0s 7ms/step - loss: 91.7506 - mse: 91.7506 - mae: 6.9559 - mape: 37.9955 - val_loss: 55.4740 - val_mse: 55.4740 - val_mae: 5.3997 - val_mape: 31.3127\n",
      "3/3 [==============================] - 0s 2ms/step - loss: 87.8082 - mse: 87.8082 - mae: 6.9701 - mape: 41.9194\n",
      "{'loss': 87.80818939208984, 'mse': 87.80818939208984, 'mae': 6.970108985900879, 'mape': 41.919368743896484}\n"
     ]
    }
   ],
   "source": [
    "# step-1: Build the second model with different settings\n",
    "model_2 = Sequential([\n",
    "    Dense(10, activation=\"relu\", name=\"layer1\"),\n",
    "    Dense(4, activation=\"relu\", name=\"layer2\"),\n",
    "    Dense(1, name=\"output\"),\n",
    "])\n",
    "\n",
    "# step-2: Compile model\n",
    "model_2.compile(optimizer='sgd', loss='mse', metrics=[\"mse\",\"mae\",\"mape\"])\n",
    "\n",
    "# step-3: Train/Fit the model\n",
    "hist_2 =  model_2.fit(X_train, Y_train, epochs=50, validation_data = (X_val, Y_val))\n",
    "\n",
    "# step-4: Evaluation\n",
    "print(dict(zip(model_2.metrics_names, model_2.evaluate(X_test, Y_test))))\n"
   ]
  },
  {
   "cell_type": "code",
   "execution_count": 38,
   "metadata": {},
   "outputs": [
    {
     "data": {
      "image/png": "[encoded data removed]",
      "text/plain": [
       "<Figure size 432x288 with 1 Axes>"
      ]
     },
     "metadata": {
      "needs_background": "light"
     },
     "output_type": "display_data"
    }
   ],
   "source": [
    "plt.plot(hist_2.history['mse'])\n",
    "plt.plot(hist_2.history['val_mse'])\n",
    "plt.title('Model Performance')\n",
    "plt.ylabel('MSE')\n",
    "plt.xlabel('Epoch')\n",
    "plt.legend(['Train', 'Val'], loc='upper right')\n",
    "plt.show()"
   ]
  },
  {
   "cell_type": "code",
   "execution_count": 39,
   "metadata": {},
   "outputs": [],
   "source": [
    "from tensorflow.keras import regularizers\n",
    "from tensorflow.keras.layers import Dropout"
   ]
  },
  {
   "cell_type": "markdown",
   "metadata": {},
   "source": [
    "#### Task-16:  complete the following codes (steps1 - step4) to build the third neural network with different settings (try regularizer parameter and dropout), compile, train, evaluate, and predict as above.  (20 points)"
   ]
  },
  {
   "cell_type": "code",
   "execution_count": 40,
   "metadata": {},
   "outputs": [
    {
     "name": "stdout",
     "output_type": "stream",
     "text": [
      "Epoch 1/60\n",
      "3/3 [==============================] - 1s 133ms/step - loss: 880.8079 - mse: 880.5023 - mae: 23.3418 - mape: 107.9816 - val_loss: 587.9715 - val_mse: 537.0627 - val_mae: 21.9761 - val_mape: 102.0139\n",
      "Epoch 2/60\n",
      "3/3 [==============================] - 0s 30ms/step - loss: 631.5166 - mse: 580.6179 - mae: 22.1092 - mape: 101.1391 - val_loss: 530.0070 - val_mse: 479.1593 - val_mae: 20.6167 - val_mape: 94.9093\n",
      "Epoch 3/60\n",
      "3/3 [==============================] - 0s 28ms/step - loss: 547.9345 - mse: 497.0968 - mae: 20.4714 - mape: 93.5227 - val_loss: 477.5711 - val_mse: 426.7844 - val_mae: 19.3047 - val_mape: 88.0530\n",
      "Epoch 4/60\n",
      "3/3 [==============================] - 0s 28ms/step - loss: 537.3620 - mse: 486.5853 - mae: 19.8942 - mape: 86.3293 - val_loss: 432.8923 - val_mse: 382.1665 - val_mae: 18.1123 - val_mape: 81.8212\n",
      "Epoch 5/60\n",
      "3/3 [==============================] - 0s 27ms/step - loss: 499.3920 - mse: 448.6762 - mae: 18.9114 - mape: 80.0158 - val_loss: 394.3693 - val_mse: 343.7043 - val_mae: 17.0174 - val_mape: 76.0995\n",
      "Epoch 6/60\n",
      "3/3 [==============================] - 0s 28ms/step - loss: 457.0500 - mse: 406.3950 - mae: 17.7546 - mape: 74.1427 - val_loss: 360.4354 - val_mse: 309.8311 - val_mae: 15.9912 - val_mape: 70.7366\n",
      "Epoch 7/60\n",
      "3/3 [==============================] - 0s 27ms/step - loss: 408.0709 - mse: 357.4767 - mae: 16.5378 - mape: 68.9822 - val_loss: 331.0239 - val_mse: 280.4803 - val_mae: 15.0456 - val_mape: 65.7944\n",
      "Epoch 8/60\n",
      "3/3 [==============================] - 0s 27ms/step - loss: 352.0093 - mse: 301.4757 - mae: 14.9790 - mape: 63.7962 - val_loss: 303.0586 - val_mse: 252.5757 - val_mae: 14.1010 - val_mape: 60.9779\n",
      "Epoch 9/60\n",
      "3/3 [==============================] - 0s 27ms/step - loss: 358.0178 - mse: 307.5449 - mae: 14.8439 - mape: 61.0866 - val_loss: 279.2863 - val_mse: 228.8639 - val_mae: 13.2555 - val_mape: 56.7664\n",
      "Epoch 10/60\n",
      "3/3 [==============================] - 0s 27ms/step - loss: 324.4498 - mse: 274.0373 - mae: 13.8743 - mape: 57.2674 - val_loss: 257.2035 - val_mse: 206.8416 - val_mae: 12.4171 - val_mape: 52.5905\n",
      "Epoch 11/60\n",
      "3/3 [==============================] - 0s 27ms/step - loss: 299.3438 - mse: 248.9919 - mae: 13.1628 - mape: 54.0881 - val_loss: 237.3652 - val_mse: 187.0638 - val_mae: 11.6231 - val_mape: 48.7013\n",
      "Epoch 12/60\n",
      "3/3 [==============================] - 0s 27ms/step - loss: 302.7727 - mse: 252.4811 - mae: 12.8396 - mape: 51.1053 - val_loss: 221.4976 - val_mse: 171.2565 - val_mae: 10.9796 - val_mape: 45.7184\n",
      "Epoch 13/60\n",
      "3/3 [==============================] - 0s 28ms/step - loss: 245.7851 - mse: 195.5539 - mae: 11.2212 - mape: 48.1219 - val_loss: 206.4365 - val_mse: 156.2556 - val_mae: 10.3572 - val_mape: 42.9811\n",
      "Epoch 14/60\n",
      "3/3 [==============================] - 0s 27ms/step - loss: 283.1460 - mse: 232.9750 - mae: 11.7635 - mape: 45.0008 - val_loss: 194.3188 - val_mse: 144.1981 - val_mae: 9.8387 - val_mape: 40.7685\n",
      "Epoch 15/60\n",
      "3/3 [==============================] - 0s 28ms/step - loss: 229.8627 - mse: 179.7519 - mae: 10.6051 - mape: 44.4649 - val_loss: 182.9188 - val_mse: 132.8582 - val_mae: 9.3297 - val_mape: 38.6407\n",
      "Epoch 16/60\n",
      "3/3 [==============================] - 0s 28ms/step - loss: 217.3910 - mse: 167.3403 - mae: 9.9231 - mape: 41.3653 - val_loss: 171.7790 - val_mse: 121.7784 - val_mae: 8.8028 - val_mape: 36.4657\n",
      "Epoch 17/60\n",
      "3/3 [==============================] - 0s 27ms/step - loss: 208.8630 - mse: 158.8723 - mae: 9.6441 - mape: 39.9634 - val_loss: 163.3450 - val_mse: 113.4044 - val_mae: 8.4185 - val_mape: 35.0231\n",
      "Epoch 18/60\n",
      "3/3 [==============================] - 0s 27ms/step - loss: 211.5990 - mse: 161.6683 - mae: 9.5877 - mape: 39.3222 - val_loss: 155.9070 - val_mse: 106.0263 - val_mae: 8.0792 - val_mape: 33.8269\n",
      "Epoch 19/60\n",
      "3/3 [==============================] - 0s 27ms/step - loss: 216.5437 - mse: 166.6729 - mae: 9.5687 - mape: 39.6098 - val_loss: 149.3743 - val_mse: 99.5535 - val_mae: 7.7857 - val_mape: 32.8779\n",
      "Epoch 20/60\n",
      "3/3 [==============================] - 0s 27ms/step - loss: 204.5107 - mse: 154.6997 - mae: 9.1471 - mape: 38.9305 - val_loss: 143.8350 - val_mse: 94.0739 - val_mae: 7.5367 - val_mape: 32.1292\n",
      "Epoch 21/60\n",
      "3/3 [==============================] - 0s 27ms/step - loss: 198.4045 - mse: 148.6533 - mae: 8.8146 - mape: 36.7174 - val_loss: 138.6143 - val_mse: 88.9129 - val_mae: 7.3034 - val_mape: 31.4894\n",
      "Epoch 22/60\n",
      "3/3 [==============================] - 0s 27ms/step - loss: 201.5657 - mse: 151.8741 - mae: 9.0764 - mape: 36.7439 - val_loss: 134.5006 - val_mse: 84.8587 - val_mae: 7.1076 - val_mape: 30.9527\n",
      "Epoch 23/60\n",
      "3/3 [==============================] - 0s 27ms/step - loss: 178.7375 - mse: 129.1055 - mae: 8.1890 - mape: 34.7576 - val_loss: 130.5555 - val_mse: 80.9733 - val_mae: 6.9155 - val_mape: 30.4543\n",
      "Epoch 24/60\n",
      "3/3 [==============================] - 0s 28ms/step - loss: 179.0195 - mse: 129.4471 - mae: 8.1766 - mape: 34.2247 - val_loss: 127.2765 - val_mse: 77.7537 - val_mae: 6.7502 - val_mape: 30.0414\n",
      "Epoch 25/60\n",
      "3/3 [==============================] - 0s 28ms/step - loss: 169.3991 - mse: 119.8861 - mae: 8.0768 - mape: 35.6407 - val_loss: 124.4717 - val_mse: 75.0083 - val_mae: 6.6047 - val_mape: 29.6942\n",
      "Epoch 26/60\n",
      "3/3 [==============================] - 0s 27ms/step - loss: 154.7542 - mse: 105.3006 - mae: 7.5070 - mape: 36.2855 - val_loss: 121.9261 - val_mse: 72.5220 - val_mae: 6.4644 - val_mape: 29.3595\n",
      "Epoch 27/60\n",
      "3/3 [==============================] - 0s 27ms/step - loss: 161.3265 - mse: 111.9322 - mae: 7.5875 - mape: 36.7546 - val_loss: 119.3407 - val_mse: 69.9959 - val_mae: 6.3199 - val_mape: 29.0418\n",
      "Epoch 28/60\n",
      "3/3 [==============================] - 0s 26ms/step - loss: 154.1123 - mse: 104.7773 - mae: 7.4308 - mape: 33.8093 - val_loss: 117.5976 - val_mse: 68.3120 - val_mae: 6.2170 - val_mape: 28.8157\n",
      "Epoch 29/60\n",
      "3/3 [==============================] - 0s 27ms/step - loss: 164.4943 - mse: 115.2184 - mae: 7.8007 - mape: 39.0487 - val_loss: 115.7836 - val_mse: 66.5571 - val_mae: 6.1074 - val_mape: 28.5893\n",
      "Epoch 30/60\n",
      "3/3 [==============================] - 0s 27ms/step - loss: 160.4727 - mse: 111.2559 - mae: 7.6097 - mape: 35.6386 - val_loss: 114.2359 - val_mse: 65.0684 - val_mae: 6.0100 - val_mape: 28.3946\n",
      "Epoch 31/60\n",
      "3/3 [==============================] - 0s 28ms/step - loss: 150.9788 - mse: 101.8210 - mae: 7.4204 - mape: 37.3012 - val_loss: 112.6864 - val_mse: 63.5779 - val_mae: 5.9059 - val_mape: 28.1880\n",
      "Epoch 32/60\n",
      "3/3 [==============================] - 0s 28ms/step - loss: 166.1565 - mse: 117.0577 - mae: 7.7286 - mape: 36.5046 - val_loss: 111.5054 - val_mse: 62.4558 - val_mae: 5.8267 - val_mape: 28.0466\n",
      "Epoch 33/60\n",
      "3/3 [==============================] - 0s 27ms/step - loss: 159.1120 - mse: 110.0721 - mae: 7.4589 - mape: 34.6111 - val_loss: 110.2530 - val_mse: 61.2622 - val_mae: 5.7364 - val_mape: 27.8853\n",
      "Epoch 34/60\n",
      "3/3 [==============================] - 0s 26ms/step - loss: 154.4663 - mse: 105.4852 - mae: 7.1339 - mape: 32.3711 - val_loss: 109.2462 - val_mse: 60.3142 - val_mae: 5.6591 - val_mape: 27.7474\n",
      "Epoch 35/60\n",
      "3/3 [==============================] - 0s 27ms/step - loss: 140.1444 - mse: 91.2220 - mae: 6.7699 - mape: 37.9778 - val_loss: 108.2370 - val_mse: 59.3637 - val_mae: 5.5806 - val_mape: 27.6253\n",
      "Epoch 36/60\n",
      "3/3 [==============================] - 0s 26ms/step - loss: 140.1637 - mse: 91.3000 - mae: 6.8120 - mape: 37.3224 - val_loss: 107.4180 - val_mse: 58.6033 - val_mae: 5.5145 - val_mape: 27.5292\n",
      "Epoch 37/60\n",
      "3/3 [==============================] - 0s 26ms/step - loss: 150.0204 - mse: 101.2153 - mae: 7.1453 - mape: 39.2737 - val_loss: 106.7131 - val_mse: 57.9569 - val_mae: 5.4629 - val_mape: 27.4885\n",
      "Epoch 38/60\n",
      "3/3 [==============================] - 0s 29ms/step - loss: 151.3563 - mse: 102.6098 - mae: 7.1786 - mape: 36.2440 - val_loss: 106.1536 - val_mse: 57.4559 - val_mae: 5.4228 - val_mape: 27.4692\n",
      "Epoch 39/60\n",
      "3/3 [==============================] - 0s 27ms/step - loss: 139.0449 - mse: 90.3569 - mae: 6.6380 - mape: 33.7468 - val_loss: 105.6630 - val_mse: 57.0237 - val_mae: 5.3874 - val_mape: 27.4601\n",
      "Epoch 40/60\n",
      "3/3 [==============================] - 0s 27ms/step - loss: 149.8432 - mse: 101.2135 - mae: 7.2152 - mape: 38.2822 - val_loss: 105.1899 - val_mse: 56.6089 - val_mae: 5.3541 - val_mape: 27.4666\n",
      "Epoch 41/60\n",
      "3/3 [==============================] - 0s 27ms/step - loss: 138.2101 - mse: 89.6388 - mae: 6.8356 - mape: 35.7126 - val_loss: 104.7776 - val_mse: 56.2549 - val_mae: 5.3273 - val_mape: 27.4921\n",
      "Epoch 42/60\n",
      "3/3 [==============================] - 0s 27ms/step - loss: 139.8256 - mse: 91.3125 - mae: 6.7395 - mape: 36.2591 - val_loss: 104.3342 - val_mse: 55.8698 - val_mae: 5.2982 - val_mape: 27.5363\n",
      "Epoch 43/60\n",
      "3/3 [==============================] - 0s 28ms/step - loss: 138.2555 - mse: 89.8006 - mae: 6.6964 - mape: 36.8245 - val_loss: 103.9282 - val_mse: 55.5219 - val_mae: 5.2719 - val_mape: 27.5944\n",
      "Epoch 44/60\n",
      "3/3 [==============================] - 0s 27ms/step - loss: 138.2679 - mse: 89.8711 - mae: 6.9140 - mape: 42.0878 - val_loss: 103.5944 - val_mse: 55.2461 - val_mae: 5.2532 - val_mape: 27.6685\n",
      "Epoch 45/60\n",
      "3/3 [==============================] - 0s 28ms/step - loss: 149.4412 - mse: 101.1025 - mae: 7.1446 - mape: 35.6053 - val_loss: 103.4461 - val_mse: 55.1558 - val_mae: 5.2475 - val_mape: 27.6991\n",
      "Epoch 46/60\n",
      "3/3 [==============================] - 0s 28ms/step - loss: 139.2376 - mse: 90.9568 - mae: 6.7425 - mape: 35.5327 - val_loss: 103.2484 - val_mse: 55.0161 - val_mae: 5.2392 - val_mape: 27.7543\n",
      "Epoch 47/60\n",
      "3/3 [==============================] - 0s 27ms/step - loss: 147.8281 - mse: 99.6052 - mae: 7.2186 - mape: 40.5956 - val_loss: 103.0009 - val_mse: 54.8263 - val_mae: 5.2281 - val_mape: 27.8424\n",
      "Epoch 48/60\n",
      "3/3 [==============================] - 0s 28ms/step - loss: 151.1587 - mse: 102.9937 - mae: 7.1957 - mape: 41.8947 - val_loss: 102.7335 - val_mse: 54.6168 - val_mae: 5.2161 - val_mape: 27.9649\n",
      "Epoch 49/60\n",
      "3/3 [==============================] - 0s 28ms/step - loss: 154.1945 - mse: 106.0872 - mae: 7.3993 - mape: 43.3290 - val_loss: 102.5428 - val_mse: 54.4838 - val_mae: 5.2081 - val_mape: 28.0617\n",
      "Epoch 50/60\n",
      "3/3 [==============================] - 0s 29ms/step - loss: 147.2536 - mse: 99.2040 - mae: 7.1266 - mape: 39.7452 - val_loss: 102.3779 - val_mse: 54.3765 - val_mae: 5.2046 - val_mape: 28.1725\n",
      "Epoch 51/60\n",
      "3/3 [==============================] - 0s 29ms/step - loss: 130.7685 - mse: 82.7766 - mae: 6.4710 - mape: 37.4087 - val_loss: 102.2230 - val_mse: 54.2792 - val_mae: 5.2018 - val_mape: 28.3001\n",
      "Epoch 52/60\n",
      "3/3 [==============================] - 0s 29ms/step - loss: 140.3422 - mse: 92.4078 - mae: 6.9536 - mape: 39.8037 - val_loss: 102.1220 - val_mse: 54.2357 - val_mae: 5.2003 - val_mape: 28.3693\n",
      "Epoch 53/60\n",
      "3/3 [==============================] - 0s 28ms/step - loss: 127.8909 - mse: 80.0141 - mae: 6.3522 - mape: 40.6671 - val_loss: 102.0241 - val_mse: 54.1953 - val_mae: 5.1986 - val_mape: 28.4457\n",
      "Epoch 54/60\n",
      "3/3 [==============================] - 0s 30ms/step - loss: 139.0415 - mse: 91.2221 - mae: 6.7940 - mape: 35.6168 - val_loss: 101.9284 - val_mse: 54.1569 - val_mae: 5.1966 - val_mape: 28.5383\n",
      "Epoch 55/60\n",
      "3/3 [==============================] - 0s 28ms/step - loss: 135.6467 - mse: 87.8846 - mae: 6.7676 - mape: 40.2464 - val_loss: 101.8571 - val_mse: 54.1429 - val_mae: 5.1968 - val_mape: 28.5870\n",
      "Epoch 56/60\n",
      "3/3 [==============================] - 0s 27ms/step - loss: 141.7088 - mse: 94.0040 - mae: 6.9366 - mape: 38.3174 - val_loss: 101.7803 - val_mse: 54.1233 - val_mae: 5.2004 - val_mape: 28.6959\n",
      "Epoch 57/60\n",
      "3/3 [==============================] - 0s 28ms/step - loss: 126.4867 - mse: 78.8392 - mae: 6.4237 - mape: 37.2874 - val_loss: 101.7198 - val_mse: 54.1200 - val_mae: 5.2013 - val_mape: 28.7218\n",
      "Epoch 58/60\n",
      "3/3 [==============================] - 0s 30ms/step - loss: 134.0647 - mse: 86.4743 - mae: 6.8699 - mape: 39.7643 - val_loss: 101.6573 - val_mse: 54.1146 - val_mae: 5.2042 - val_mape: 28.7845\n",
      "Epoch 59/60\n",
      "3/3 [==============================] - 0s 27ms/step - loss: 137.2448 - mse: 89.7114 - mae: 6.9244 - mape: 41.1030 - val_loss: 101.5973 - val_mse: 54.1116 - val_mae: 5.2086 - val_mape: 28.8793\n",
      "Epoch 60/60\n",
      "3/3 [==============================] - 0s 27ms/step - loss: 132.9333 - mse: 85.4569 - mae: 6.5740 - mape: 38.2142 - val_loss: 101.5446 - val_mse: 54.1158 - val_mae: 5.2136 - val_mape: 28.9879\n",
      "3/3 [==============================] - 0s 2ms/step - loss: 135.4078 - mse: 87.9790 - mae: 6.7886 - mape: 39.0957\n",
      "{'loss': 135.4077606201172, 'mse': 87.97901153564453, 'mae': 6.788590431213379, 'mape': 39.09566116333008}\n"
     ]
    }
   ],
   "source": [
    "# step-1: Build model \n",
    "model_3 = Sequential([\n",
    "    Dense(10, activation=\"relu\", kernel_regularizer='l2', name=\"layer1\"),\n",
    "    Dropout(.2),\n",
    "    Dense(20, activation=\"relu\", kernel_regularizer='l2', name=\"layer3\"),\n",
    "    Dropout(.1),\n",
    "    Dense(2, activation=\"relu\", kernel_regularizer='l2', name=\"layer5\"),\n",
    "    Dropout(.1),\n",
    "    Dense(1, name=\"output\"),\n",
    "])\n",
    "\n",
    "# step-2: Compile model\n",
    "model_3.compile(optimizer='sgd', loss='mse', metrics=[\"mse\",\"mae\",\"mape\"])\n",
    "\n",
    "# step-3: Train/Fit the model\n",
    "hist_3 = model_3.fit(X_test, Y_test, epochs=60, validation_data=(X_val,Y_val))\n",
    "\n",
    "# step-4: Evalution\n",
    "print(dict(zip(model_3.metrics_names, model_3.evaluate(X_test, Y_test))))"
   ]
  },
  {
   "cell_type": "code",
   "execution_count": 41,
   "metadata": {},
   "outputs": [
    {
     "data": {
      "image/png": "[encoded data removed]",
      "text/plain": [
       "<Figure size 432x288 with 1 Axes>"
      ]
     },
     "metadata": {
      "needs_background": "light"
     },
     "output_type": "display_data"
    }
   ],
   "source": [
    "plt.plot(hist_3.history['mse'])\n",
    "plt.plot(hist_3.history['val_mse'])\n",
    "plt.title('Model Performance')\n",
    "plt.ylabel('MSE')\n",
    "plt.xlabel('Epoch')\n",
    "plt.legend(['Train', 'Val'], loc='upper right')\n",
    "plt.show()"
   ]
  },
  {
   "cell_type": "markdown",
   "metadata": {},
   "source": [
    "#### Congratualtions if you ran through above!  "
   ]
  }
 ],
 "metadata": {
  "environment": {
   "name": "common-cpu.mnightly-2021-02-12-debian-10-test",
   "type": "gcloud",
   "uri": "gcr.io/deeplearning-platform-release/base-cpu:mnightly-2021-02-12-debian-10-test"
  },
  "kernelspec": {
   "display_name": "Python 3",
   "language": "python",
   "name": "python3"
  },
  "language_info": {
   "codemirror_mode": {
    "name": "ipython",
    "version": 3
   },
   "file_extension": ".py",
   "mimetype": "text/x-python",
   "name": "python",
   "nbconvert_exporter": "python",
   "pygments_lexer": "ipython3",
   "version": "3.7.9"
  }
 },
 "nbformat": 4,
 "nbformat_minor": 4
}
